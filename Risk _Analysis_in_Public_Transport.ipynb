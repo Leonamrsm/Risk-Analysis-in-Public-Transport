{
 "cells": [
  {
   "cell_type": "markdown",
   "metadata": {},
   "source": [
    "### <font color='blue'>Applied Data Science in Logistics with Spark SQL</font>"
   ]
  },
  {
   "cell_type": "markdown",
   "metadata": {},
   "source": [
    "The objective of this work is to analyze the data and build graphs that answer the 10 questions below:\n",
    "\n",
    "1. What is the number of incidents by gender?\n",
    "2. What age group was most involved in the incidents?\n",
    "3. What is the percentage of incidents by type of event (Incident Event Type)?\n",
    "4. How did incidents per month evolve over time?\n",
    "5. When the incident was “Collision Incident” in which month were there the highest number of incidents involving females?\n",
    "6. What was the average number of incidents per month involving children (Child)?\n",
    "7. Considering the incident description as “Injuries treated on scene” (Injury Result Description column), what is the total number of incidents involving males and females?\n",
    "8. In 2017, in which month were there more incidents with the elderly (Elderly)?\n",
    "9. Considering the Operator, what is the distribution of incidents over time?\n",
    "10. What is the most common type of incident with cyclists?"
   ]
  },
  {
   "cell_type": "code",
   "execution_count": 1,
   "metadata": {},
   "outputs": [
    {
     "name": "stdout",
     "output_type": "stream",
     "text": [
      "Python Language Version Used in This Jupyter Notebook: 3.10.9\n"
     ]
    }
   ],
   "source": [
    "# Python Language Version\n",
    "from platform import python_version\n",
    "print('Python Language Version Used in This Jupyter Notebook:', python_version())"
   ]
  },
  {
   "cell_type": "code",
   "execution_count": 2,
   "metadata": {},
   "outputs": [],
   "source": [
    "# Import findspark and initialize (to be able to use pyspark in jupyter notebook)\n",
    "import findspark\n",
    "findspark.init()"
   ]
  },
  {
   "cell_type": "code",
   "execution_count": 3,
   "metadata": {},
   "outputs": [],
   "source": [
    "# Imports\n",
    "import pyspark\n",
    "import calendar\n",
    "import seaborn as sns\n",
    "import pandas  as pd\n",
    "import numpy   as np\n",
    "import plotly.express as px\n",
    "from pyspark               import SparkContext\n",
    "from pyspark.sql           import SparkSession\n",
    "from pyspark.sql.functions import col, count, isnan, when\n",
    "from pyspark.sql.functions import dayofmonth, month, dayofweek, concat_ws\n",
    "from pyspark.sql.types     import NumericType, StringType\n",
    "from pyspark.ml.feature    import VectorAssembler\n",
    "from pyspark.ml.stat       import Correlation\n",
    "from matplotlib import pyplot    as plt\n",
    "from scipy      import stats     as ss\n",
    "\n",
    "import warnings\n",
    "\n",
    "# Disable display of warnings\n",
    "warnings.filterwarnings(\"ignore\")"
   ]
  },
  {
   "cell_type": "code",
   "execution_count": 4,
   "metadata": {},
   "outputs": [
    {
     "name": "stdout",
     "output_type": "stream",
     "text": [
      "Author: Data Science Academy\n",
      "\n",
      "matplotlib: 3.7.0\n",
      "plotly    : 5.9.0\n",
      "numpy     : 1.23.5\n",
      "pandas    : 1.5.3\n",
      "scipy     : 1.10.0\n",
      "findspark : 2.0.1\n",
      "pyspark   : 3.3.2\n",
      "seaborn   : 0.12.2\n",
      "\n"
     ]
    }
   ],
   "source": [
    "# Package versions used in this jupyter notebook\n",
    "%reload_ext watermark\n",
    "%watermark -a \"Data Science Academy\" --iversions"
   ]
  },
  {
   "cell_type": "code",
   "execution_count": 5,
   "metadata": {},
   "outputs": [
    {
     "name": "stdout",
     "output_type": "stream",
     "text": [
      "23/07/25 15:20:36 WARN Utils: Your hostname, leonam-pc resolves to a loopback address: 127.0.1.1; using 192.168.93.217 instead (on interface wlx64700215b737)\n",
      "23/07/25 15:20:36 WARN Utils: Set SPARK_LOCAL_IP if you need to bind to another address\n",
      ":: loading settings :: url = jar:file:/home/leonam/anaconda3/lib/python3.10/site-packages/pyspark/jars/ivy-2.5.1.jar!/org/apache/ivy/core/settings/ivysettings.xml\n"
     ]
    },
    {
     "name": "stderr",
     "output_type": "stream",
     "text": [
      "Ivy Default Cache set to: /home/leonam/.ivy2/cache\n",
      "The jars for the packages stored in: /home/leonam/.ivy2/jars\n",
      "com.crealytics#spark-excel_2.12 added as a dependency\n",
      ":: resolving dependencies :: org.apache.spark#spark-submit-parent-0e6704ec-2acf-41cd-9ea6-9057b2118cee;1.0\n",
      "\tconfs: [default]\n",
      "\tfound com.crealytics#spark-excel_2.12;0.13.7 in central\n",
      "\tfound org.apache.poi#poi;4.1.2 in central\n",
      "\tfound commons-codec#commons-codec;1.13 in central\n",
      "\tfound org.apache.commons#commons-collections4;4.4 in central\n",
      "\tfound org.apache.commons#commons-math3;3.6.1 in central\n",
      "\tfound com.zaxxer#SparseBitSet;1.2 in central\n",
      "\tfound org.apache.poi#poi-ooxml;4.1.2 in central\n",
      "\tfound org.apache.poi#poi-ooxml-schemas;4.1.2 in central\n",
      "\tfound org.apache.xmlbeans#xmlbeans;3.1.0 in central\n",
      "\tfound com.github.virtuald#curvesapi;1.06 in central\n",
      "\tfound com.norbitltd#spoiwo_2.12;1.8.0 in central\n",
      "\tfound org.scala-lang.modules#scala-xml_2.12;1.3.0 in central\n",
      "\tfound com.github.pjfanning#excel-streaming-reader;2.3.6 in central\n",
      "\tfound com.github.pjfanning#poi-shared-strings;1.0.4 in central\n",
      "\tfound com.h2database#h2;1.4.200 in central\n",
      "\tfound org.apache.commons#commons-text;1.8 in central\n",
      "\tfound org.apache.commons#commons-lang3;3.9 in central\n",
      "\tfound xml-apis#xml-apis;1.4.01 in central\n",
      "\tfound org.slf4j#slf4j-api;1.7.30 in central\n",
      "\tfound org.apache.commons#commons-compress;1.20 in central\n",
      ":: resolution report :: resolve 671ms :: artifacts dl 38ms\n",
      "\t:: modules in use:\n",
      "\tcom.crealytics#spark-excel_2.12;0.13.7 from central in [default]\n",
      "\tcom.github.pjfanning#excel-streaming-reader;2.3.6 from central in [default]\n",
      "\tcom.github.pjfanning#poi-shared-strings;1.0.4 from central in [default]\n",
      "\tcom.github.virtuald#curvesapi;1.06 from central in [default]\n",
      "\tcom.h2database#h2;1.4.200 from central in [default]\n",
      "\tcom.norbitltd#spoiwo_2.12;1.8.0 from central in [default]\n",
      "\tcom.zaxxer#SparseBitSet;1.2 from central in [default]\n",
      "\tcommons-codec#commons-codec;1.13 from central in [default]\n",
      "\torg.apache.commons#commons-collections4;4.4 from central in [default]\n",
      "\torg.apache.commons#commons-compress;1.20 from central in [default]\n",
      "\torg.apache.commons#commons-lang3;3.9 from central in [default]\n",
      "\torg.apache.commons#commons-math3;3.6.1 from central in [default]\n",
      "\torg.apache.commons#commons-text;1.8 from central in [default]\n",
      "\torg.apache.poi#poi;4.1.2 from central in [default]\n",
      "\torg.apache.poi#poi-ooxml;4.1.2 from central in [default]\n",
      "\torg.apache.poi#poi-ooxml-schemas;4.1.2 from central in [default]\n",
      "\torg.apache.xmlbeans#xmlbeans;3.1.0 from central in [default]\n",
      "\torg.scala-lang.modules#scala-xml_2.12;1.3.0 from central in [default]\n",
      "\torg.slf4j#slf4j-api;1.7.30 from central in [default]\n",
      "\txml-apis#xml-apis;1.4.01 from central in [default]\n",
      "\t:: evicted modules:\n",
      "\torg.apache.commons#commons-compress;1.19 by [org.apache.commons#commons-compress;1.20] in [default]\n",
      "\t---------------------------------------------------------------------\n",
      "\t|                  |            modules            ||   artifacts   |\n",
      "\t|       conf       | number| search|dwnlded|evicted|| number|dwnlded|\n",
      "\t---------------------------------------------------------------------\n",
      "\t|      default     |   21  |   0   |   0   |   1   ||   20  |   0   |\n",
      "\t---------------------------------------------------------------------\n",
      ":: retrieving :: org.apache.spark#spark-submit-parent-0e6704ec-2acf-41cd-9ea6-9057b2118cee\n",
      "\tconfs: [default]\n",
      "\t0 artifacts copied, 20 already retrieved (0kB/9ms)\n"
     ]
    },
    {
     "name": "stdout",
     "output_type": "stream",
     "text": [
      "23/07/25 15:20:38 WARN NativeCodeLoader: Unable to load native-hadoop library for your platform... using builtin-java classes where applicable\n"
     ]
    },
    {
     "name": "stderr",
     "output_type": "stream",
     "text": [
      "Setting default log level to \"WARN\".\n",
      "To adjust logging level use sc.setLogLevel(newLevel). For SparkR, use setLogLevel(newLevel).\n"
     ]
    }
   ],
   "source": [
    "# Initialize the Spark session\n",
    "\n",
    "spark = SparkSession.builder \\\n",
    "    .appName(\"RiskAnalysisPublicTransport\") \\\n",
    "    .config(\"spark.jars.packages\", \"com.crealytics:spark-excel_2.12:0.13.7\") \\\n",
    "    .getOrCreate()"
   ]
  },
  {
   "cell_type": "code",
   "execution_count": 6,
   "metadata": {},
   "outputs": [
    {
     "data": {
      "text/html": [
       "\n",
       "            <div>\n",
       "                <p><b>SparkSession - in-memory</b></p>\n",
       "                \n",
       "        <div>\n",
       "            <p><b>SparkContext</b></p>\n",
       "\n",
       "            <p><a href=\"http://192.168.93.217:4040\">Spark UI</a></p>\n",
       "\n",
       "            <dl>\n",
       "              <dt>Version</dt>\n",
       "                <dd><code>v3.3.2</code></dd>\n",
       "              <dt>Master</dt>\n",
       "                <dd><code>local[*]</code></dd>\n",
       "              <dt>AppName</dt>\n",
       "                <dd><code>RiskAnalysisPublicTransport</code></dd>\n",
       "            </dl>\n",
       "        </div>\n",
       "        \n",
       "            </div>\n",
       "        "
      ],
      "text/plain": [
       "<pyspark.sql.session.SparkSession at 0x7f91bad31000>"
      ]
     },
     "execution_count": 6,
     "metadata": {},
     "output_type": "execute_result"
    }
   ],
   "source": [
    "# View the spark_session object\n",
    "spark"
   ]
  },
  {
   "cell_type": "markdown",
   "metadata": {},
   "source": [
    "## Loading Data"
   ]
  },
  {
   "cell_type": "code",
   "execution_count": 7,
   "metadata": {},
   "outputs": [],
   "source": [
    "# Read .xlsx file directly with PySpark\n",
    "df = spark.read.format(\"com.crealytics.spark.excel\") \\\n",
    "    .option(\"header\", \"true\") \\\n",
    "    .option(\"inferSchema\", \"true\") \\\n",
    "    .load(\"data/TFL_Bus_Safety.xlsx\")"
   ]
  },
  {
   "cell_type": "markdown",
   "metadata": {},
   "source": [
    "# 01 - Data Description"
   ]
  },
  {
   "cell_type": "markdown",
   "metadata": {},
   "source": [
    "## 1.1. Visualizing the data"
   ]
  },
  {
   "cell_type": "code",
   "execution_count": 8,
   "metadata": {},
   "outputs": [
    {
     "name": "stdout",
     "output_type": "stream",
     "text": [
      "+------+-------------------+-----+--------------+----------+--------------------+-------------------+-------------------------+-------------------+---------------+-----------+-----------+\n",
      "|  Year|   Date Of Incident|Route|      Operator|Group Name|          Bus Garage|            Borough|Injury Result Description|Incident Event Type|Victim Category|Victims Sex|Victims Age|\n",
      "+------+-------------------+-----+--------------+----------+--------------------+-------------------+-------------------------+-------------------+---------------+-----------+-----------+\n",
      "|2015.0|2015-01-01 00:00:00|  1.0|London General|  Go-Ahead|Garage Not Available|          Southwark|     Injuries treated ...|   Onboard Injuries|      Passenger|       Male|      Child|\n",
      "|2015.0|2015-01-01 00:00:00|  4.0|     Metroline| Metroline|Garage Not Available|          Islington|     Injuries treated ...|   Onboard Injuries|      Passenger|       Male|    Unknown|\n",
      "|2015.0|2015-01-01 00:00:00|  5.0|   East London|Stagecoach|Garage Not Available|           Havering|     Taken to Hospital...|   Onboard Injuries|      Passenger|       Male|    Elderly|\n",
      "|2015.0|2015-01-01 00:00:00|  5.0|   East London|Stagecoach|Garage Not Available|None London Borough|     Taken to Hospital...|   Onboard Injuries|      Passenger|       Male|    Elderly|\n",
      "|2015.0|2015-01-01 00:00:00|  6.0|     Metroline| Metroline|Garage Not Available|        Westminster|     Reported Minor In...|   Onboard Injuries|     Pedestrian|     Female|    Elderly|\n",
      "+------+-------------------+-----+--------------+----------+--------------------+-------------------+-------------------------+-------------------+---------------+-----------+-----------+\n",
      "only showing top 5 rows\n",
      "\n"
     ]
    }
   ],
   "source": [
    "df.show(5)"
   ]
  },
  {
   "cell_type": "markdown",
   "metadata": {},
   "source": [
    "## 1.2. Data Dimension"
   ]
  },
  {
   "cell_type": "code",
   "execution_count": 9,
   "metadata": {},
   "outputs": [
    {
     "name": "stdout",
     "output_type": "stream",
     "text": [
      "Number of rows: 23158\n",
      "Number of columns: 12\n"
     ]
    }
   ],
   "source": [
    "print(\"Number of rows:\", df.count())\n",
    "print(\"Number of columns:\", len(df.columns))"
   ]
  },
  {
   "cell_type": "markdown",
   "metadata": {},
   "source": [
    "## 1.3. Data Types"
   ]
  },
  {
   "cell_type": "code",
   "execution_count": 10,
   "metadata": {},
   "outputs": [
    {
     "name": "stdout",
     "output_type": "stream",
     "text": [
      "root\n",
      " |-- Year: double (nullable = true)\n",
      " |-- Date Of Incident: timestamp (nullable = true)\n",
      " |-- Route: double (nullable = true)\n",
      " |-- Operator: string (nullable = true)\n",
      " |-- Group Name: string (nullable = true)\n",
      " |-- Bus Garage: string (nullable = true)\n",
      " |-- Borough: string (nullable = true)\n",
      " |-- Injury Result Description: string (nullable = true)\n",
      " |-- Incident Event Type: string (nullable = true)\n",
      " |-- Victim Category: string (nullable = true)\n",
      " |-- Victims Sex: string (nullable = true)\n",
      " |-- Victims Age: string (nullable = true)\n",
      "\n"
     ]
    }
   ],
   "source": [
    "df.printSchema()"
   ]
  },
  {
   "cell_type": "markdown",
   "metadata": {},
   "source": [
    "## 1.4. Change Types"
   ]
  },
  {
   "cell_type": "code",
   "execution_count": 11,
   "metadata": {},
   "outputs": [],
   "source": [
    "df = df.withColumn(\"Year\", col(\"year\").cast(\"int\"))\n",
    "df = df.withColumn(\"Route\", col(\"Route\").cast(\"int\"))"
   ]
  },
  {
   "cell_type": "markdown",
   "metadata": {},
   "source": [
    "## 1.5. Rename Columns"
   ]
  },
  {
   "cell_type": "code",
   "execution_count": 12,
   "metadata": {},
   "outputs": [
    {
     "data": {
      "text/plain": [
       "['year',\n",
       " 'dateOfIncident',\n",
       " 'route',\n",
       " 'operator',\n",
       " 'groupName',\n",
       " 'busGarage',\n",
       " 'borough',\n",
       " 'injuryResultDescription',\n",
       " 'incidentEventType',\n",
       " 'victimCategory',\n",
       " 'victimsSex',\n",
       " 'victimsAge']"
      ]
     },
     "execution_count": 12,
     "metadata": {},
     "output_type": "execute_result"
    }
   ],
   "source": [
    "# Function to convert a column name to camel case\n",
    "def to_lower_camel_case(name):\n",
    "    words = name.split(' ')\n",
    "    return words[0].lower() + ''.join(word.capitalize() for word in words[1:])\n",
    "\n",
    "# Renames all columns to camel case\n",
    "for col_name in df.columns:\n",
    "    new_col_name = to_lower_camel_case(col_name)\n",
    "    df = df.withColumnRenamed(col_name, new_col_name)\n",
    "\n",
    "# Display column names after transformation\n",
    "df.columns"
   ]
  },
  {
   "cell_type": "markdown",
   "metadata": {},
   "source": [
    "## 1.6. Check NAs"
   ]
  },
  {
   "cell_type": "code",
   "execution_count": 13,
   "metadata": {},
   "outputs": [
    {
     "data": {
      "text/plain": [
       "year                       0\n",
       "dateOfIncident             0\n",
       "route                      0\n",
       "operator                   0\n",
       "groupName                  0\n",
       "busGarage                  0\n",
       "borough                    0\n",
       "injuryResultDescription    0\n",
       "incidentEventType          0\n",
       "victimCategory             0\n",
       "victimsSex                 0\n",
       "victimsAge                 0\n",
       "dtype: int64"
      ]
     },
     "execution_count": 13,
     "metadata": {},
     "output_type": "execute_result"
    }
   ],
   "source": [
    "# Check how many records have null values in each column\n",
    "df.toPandas().isnull().sum()\n"
   ]
  },
  {
   "cell_type": "markdown",
   "metadata": {},
   "source": [
    "# 2. Feature Engineering"
   ]
  },
  {
   "cell_type": "code",
   "execution_count": 14,
   "metadata": {},
   "outputs": [],
   "source": [
    "# Creating new variables from 'dateOfIncident'\n",
    "df = df.withColumn('month', month(df.dateOfIncident))\n",
    "df = df.withColumn('day', dayofmonth(df.dateOfIncident))\n",
    "df = df.withColumn('dayOfWeek', dayofweek(df.dateOfIncident))"
   ]
  },
  {
   "cell_type": "markdown",
   "metadata": {},
   "source": [
    "# 3. Exploratory Data Analysis"
   ]
  },
  {
   "cell_type": "markdown",
   "metadata": {},
   "source": [
    "## 3.1. Descriptive statistics"
   ]
  },
  {
   "cell_type": "code",
   "execution_count": 15,
   "metadata": {},
   "outputs": [
    {
     "name": "stderr",
     "output_type": "stream",
     "text": [
      "[Stage 6:>                                                          (0 + 6) / 6]\r"
     ]
    },
    {
     "name": "stdout",
     "output_type": "stream",
     "text": [
      "+-------+------------------+------------------+--------------+---------+----------+------------------+-----------------------+--------------------+--------------------+----------+----------+------------------+-----+------------------+\n",
      "|summary|              year|             route|      operator|groupName| busGarage|           borough|injuryResultDescription|   incidentEventType|      victimCategory|victimsSex|victimsAge|             month|  day|         dayOfWeek|\n",
      "+-------+------------------+------------------+--------------+---------+----------+------------------+-----------------------+--------------------+--------------------+----------+----------+------------------+-----+------------------+\n",
      "|  count|             23158|             23158|         23158|    23158|     23158|             23158|                  23158|               23158|               23158|     23158|     23158|             23158|23158|             23158|\n",
      "|   mean|2016.4496070472408|163.90586406425425|          null|     null|      null|              null|                   null|                null|                null|      null|      null| 6.339018913550393|  1.0|3.9334139390275498|\n",
      "| stddev| 1.074073330860429|140.02407870461911|          null|     null|      null|              null|                   null|                null|                null|      null|      null|3.3102801903239674|  0.0| 1.983319091375352|\n",
      "|    min|              2015|                 0|Abellio London|  Abellio|  Alperton|Barking & Dagenham|                  Fatal|Activity Incident...|3rd Party driver ...|    Female|     Adult|                 1|    1|                 1|\n",
      "|    max|              2018|               698|     Uno Buses|Uno Buses|Wood Green|       Westminster|   Taken to Hospital...|Vandalism Hooliga...|           TfL Staff|   Unknown|     Youth|                12|    1|                 7|\n",
      "+-------+------------------+------------------+--------------+---------+----------+------------------+-----------------------+--------------------+--------------------+----------+----------+------------------+-----+------------------+\n",
      "\n"
     ]
    },
    {
     "name": "stderr",
     "output_type": "stream",
     "text": [
      "                                                                                \r"
     ]
    }
   ],
   "source": [
    "df.describe().show()"
   ]
  },
  {
   "cell_type": "markdown",
   "metadata": {},
   "source": [
    "## 3.2. Univariate Analysis"
   ]
  },
  {
   "cell_type": "code",
   "execution_count": 16,
   "metadata": {},
   "outputs": [
    {
     "data": {
      "text/plain": [
       "['year', 'route', 'month', 'day', 'dayOfWeek']"
      ]
     },
     "execution_count": 16,
     "metadata": {},
     "output_type": "execute_result"
    }
   ],
   "source": [
    "# Get numeric columns\n",
    "numerical_columns = [f.name for f in df.schema.fields if isinstance(f.dataType, NumericType)]\n",
    "numerical_columns"
   ]
  },
  {
   "cell_type": "code",
   "execution_count": 17,
   "metadata": {},
   "outputs": [
    {
     "data": {
      "text/plain": [
       "['operator',\n",
       " 'groupName',\n",
       " 'busGarage',\n",
       " 'borough',\n",
       " 'injuryResultDescription',\n",
       " 'incidentEventType',\n",
       " 'victimCategory',\n",
       " 'victimsSex',\n",
       " 'victimsAge']"
      ]
     },
     "execution_count": 17,
     "metadata": {},
     "output_type": "execute_result"
    }
   ],
   "source": [
    "# Get numeric columns\n",
    "string_columns = [f.name for f in df.schema.fields if isinstance(f.dataType, StringType)]\n",
    "string_columns"
   ]
  },
  {
   "cell_type": "code",
   "execution_count": 18,
   "metadata": {},
   "outputs": [],
   "source": [
    "# Convert Spark DataFrame to a Pandas DataFrame\n",
    "df_pandas = df.toPandas()"
   ]
  },
  {
   "cell_type": "markdown",
   "metadata": {},
   "source": [
    "### 3.2.1. Histograms"
   ]
  },
  {
   "cell_type": "code",
   "execution_count": 19,
   "metadata": {},
   "outputs": [
    {
     "data": {
      "image/png": "[encoded data removed]",
      "text/plain": [
       "<Figure size 1500x1000 with 6 Axes>"
      ]
     },
     "metadata": {},
     "output_type": "display_data"
    }
   ],
   "source": [
    "fig = plt.figure(figsize=(15,10));\n",
    "ax = fig.add_subplot();\n",
    "\n",
    "df_pandas.select_dtypes(include='number').hist(bins=25, ax=ax);\n"
   ]
  },
  {
   "cell_type": "markdown",
   "metadata": {},
   "source": [
    "### 3.2.2. Box Plots"
   ]
  },
  {
   "cell_type": "code",
   "execution_count": 20,
   "metadata": {},
   "outputs": [
    {
     "data": {
      "image/png": "[encoded data removed]",
      "text/plain": [
       "<Figure size 1500x500 with 5 Axes>"
      ]
     },
     "metadata": {},
     "output_type": "display_data"
    }
   ],
   "source": [
    "# Plot style setting\n",
    "sns.set(style=\"whitegrid\")\n",
    "\n",
    "# Configure the subplots\n",
    "fig, axes = plt.subplots(nrows=1, ncols=len(df_pandas.select_dtypes(include='number').columns), figsize=(15, 5), sharey=True)\n",
    "\n",
    "# Generate the boxplots for each numeric variable\n",
    "for idx, col in enumerate(df_pandas.select_dtypes(include='number').columns):\n",
    "    sns.boxplot(x=col, data=df_pandas, ax=axes[idx], color='magenta')\n",
    "    axes[idx].set_title(f\"Boxplot - {col}\", fontsize=14)\n",
    "    axes[idx].set_xlabel(col, fontsize=12)\n",
    "\n",
    "plt.tight_layout()  # To avoid overlapping elements\n",
    "plt.show()"
   ]
  },
  {
   "cell_type": "markdown",
   "metadata": {},
   "source": [
    "## 3.3. Multivariate Analysis"
   ]
  },
  {
   "cell_type": "markdown",
   "metadata": {},
   "source": [
    "### 3.3.1. Numerical Variables"
   ]
  },
  {
   "cell_type": "code",
   "execution_count": 21,
   "metadata": {},
   "outputs": [
    {
     "data": {
      "text/plain": [
       "['year', 'route', 'month', 'dayOfWeek']"
      ]
     },
     "execution_count": 21,
     "metadata": {},
     "output_type": "execute_result"
    }
   ],
   "source": [
    "del numerical_columns[3]\n",
    "numerical_columns"
   ]
  },
  {
   "cell_type": "code",
   "execution_count": 22,
   "metadata": {},
   "outputs": [
    {
     "data": {
      "image/png": "[encoded data removed]",
      "text/plain": [
       "<Figure size 1000x800 with 2 Axes>"
      ]
     },
     "metadata": {},
     "output_type": "display_data"
    }
   ],
   "source": [
    "# Create a feature vector for the numeric columns\n",
    "assembler = VectorAssembler(inputCols=numerical_columns, outputCol=\"features\")\n",
    "df_assembled = assembler.transform(df).select(\"features\")\n",
    "\n",
    "# Calculate the correlation matrix\n",
    "correlation_matrix = Correlation.corr(df_assembled, \"features\").head()\n",
    "\n",
    "# Get the correlation matrix as an array\n",
    "corr_array = correlation_matrix[0].toArray()\n",
    "\n",
    "# Create a heatmap with seaborn\n",
    "plt.figure(figsize=(10, 8))\n",
    "sns.heatmap(corr_array, annot=True, xticklabels=numerical_columns, yticklabels=numerical_columns)\n",
    "plt.title('Matriz de Correlação')\n",
    "plt.show()"
   ]
  },
  {
   "cell_type": "markdown",
   "metadata": {},
   "source": [
    "### 3.3.2. Categorical Variables"
   ]
  },
  {
   "cell_type": "code",
   "execution_count": 23,
   "metadata": {},
   "outputs": [],
   "source": [
    "def cramer_v(x, y):\n",
    "    cm = pd.crosstab(x, y).values\n",
    "    n = cm.sum()\n",
    "    r, k = cm.shape\n",
    "    # \\chi ^{2} is derived from Pearson's chi-squared test\n",
    "    chi2 = ss.chi2_contingency(cm)[0]\n",
    "    phi2 = chi2/n\n",
    "    phi2corr  = max(0, phi2 - (k-1)*(r-1)/(n-1))\n",
    "\n",
    "    kcorr = k - ((k-1)**2)/(n-1)\n",
    "    rcorr = r - ((r-1)**2)/(n-1)\n",
    "\n",
    "    # Varia de 0 a 1\n",
    "    return np.sqrt(phi2corr/min(kcorr-1, rcorr-1))"
   ]
  },
  {
   "cell_type": "code",
   "execution_count": 24,
   "metadata": {},
   "outputs": [
    {
     "data": {
      "text/plain": [
       "<Axes: >"
      ]
     },
     "execution_count": 24,
     "metadata": {},
     "output_type": "execute_result"
    },
    {
     "data": {
      "image/png": "[encoded data removed]",
      "text/plain": [
       "<Figure size 2000x1200 with 2 Axes>"
      ]
     },
     "metadata": {},
     "output_type": "display_data"
    }
   ],
   "source": [
    "corr_dict = {}\n",
    "\n",
    "for i in range(len(string_columns)):\n",
    "    corr_list = []\n",
    "    ref = string_columns[i]\n",
    "    for j in range(len(string_columns)):\n",
    "        feat = string_columns[j]\n",
    "        corr = cramer_v(df_pandas[ref], df_pandas[feat])\n",
    "        corr_list.append(corr)\n",
    "\n",
    "    corr_dict[ref] = corr_list\n",
    "    \n",
    "fig = plt.figure(figsize=(20,12))\n",
    "ax = fig.add_subplot()\n",
    "\n",
    "d =  pd.DataFrame(corr_dict)\n",
    "d = d.set_index( d.columns )\n",
    "sns.heatmap(d, annot = True, ax=ax)"
   ]
  },
  {
   "cell_type": "markdown",
   "metadata": {},
   "source": [
    "# 4. Business Questions"
   ]
  },
  {
   "cell_type": "markdown",
   "metadata": {},
   "source": [
    "## Create temporary table\n",
    "\n",
    "We create a temporary table to run SQL queries on the data. The temp table only exists in this session."
   ]
  },
  {
   "cell_type": "code",
   "execution_count": 25,
   "metadata": {},
   "outputs": [],
   "source": [
    "# Create temporary table\n",
    "df.createOrReplaceTempView(\"tb_traffic_incidents\")"
   ]
  },
  {
   "cell_type": "markdown",
   "metadata": {},
   "source": [
    "## 1- What is the number of incidents by gender?"
   ]
  },
  {
   "cell_type": "code",
   "execution_count": 62,
   "metadata": {},
   "outputs": [
    {
     "name": "stdout",
     "output_type": "stream",
     "text": [
      "+----------+-----+\n",
      "|victimsSex|count|\n",
      "+----------+-----+\n",
      "|    Female|11847|\n",
      "|   Unknown| 3602|\n",
      "|      Male| 7709|\n",
      "+----------+-----+\n",
      "\n"
     ]
    }
   ],
   "source": [
    "query = \"\"\"\n",
    "SELECT victimsSex, COUNT(*) as count\n",
    "FROM tb_traffic_incidents\n",
    "GROUP BY victimsSex\n",
    "\"\"\"\n",
    "\n",
    "# Execute the query\n",
    "spark.sql(query).show()"
   ]
  },
  {
   "cell_type": "code",
   "execution_count": 63,
   "metadata": {},
   "outputs": [
    {
     "data": {
      "image/png": "[encoded data removed]",
      "text/plain": [
       "<Figure size 800x600 with 1 Axes>"
      ]
     },
     "metadata": {},
     "output_type": "display_data"
    }
   ],
   "source": [
    "plt.figure(figsize=(8, 6))\n",
    "sns.countplot(x='victimsSex', data=df_pandas)\n",
    "plt.xlabel('Gender')\n",
    "plt.ylabel('Number of Incidents')\n",
    "plt.title('Number of Incidents by Gender')\n",
    "plt.savefig('img/plot1.png')\n",
    "plt.show()"
   ]
  },
  {
   "cell_type": "markdown",
   "metadata": {},
   "source": [
    "## 2. What age group was most involved in the incidents?"
   ]
  },
  {
   "cell_type": "code",
   "execution_count": 64,
   "metadata": {},
   "outputs": [
    {
     "name": "stdout",
     "output_type": "stream",
     "text": [
      "+----------+-----+\n",
      "|victimsAge|count|\n",
      "+----------+-----+\n",
      "|     Adult|10754|\n",
      "+----------+-----+\n",
      "\n"
     ]
    }
   ],
   "source": [
    "query = \"\"\"\n",
    "SELECT victimsAge, COUNT(*) as count\n",
    "FROM tb_traffic_incidents\n",
    "GROUP BY victimsAge\n",
    "ORDER BY COUNT DESC\n",
    "LIMIT 1\n",
    "\"\"\"\n",
    "\n",
    "# Execute the query\n",
    "spark.sql(query).show()"
   ]
  },
  {
   "cell_type": "code",
   "execution_count": 65,
   "metadata": {},
   "outputs": [
    {
     "data": {
      "image/png": "[encoded data removed]",
      "text/plain": [
       "<Figure size 800x600 with 1 Axes>"
      ]
     },
     "metadata": {},
     "output_type": "display_data"
    }
   ],
   "source": [
    "plt.figure(figsize=(8, 6))\n",
    "sns.countplot(data=df_pandas, x=df_pandas.victimsAge)\n",
    "plt.xlabel('Age')\n",
    "plt.ylabel('Number of Incidents')\n",
    "plt.title('Number of Incidents by Age')\n",
    "plt.savefig('img/plot2.png')\n",
    "plt.show()"
   ]
  },
  {
   "cell_type": "markdown",
   "metadata": {},
   "source": [
    "## 3. What is the percentage of incidents by type of event (Incident Event Type)?"
   ]
  },
  {
   "cell_type": "code",
   "execution_count": 66,
   "metadata": {},
   "outputs": [
    {
     "name": "stdout",
     "output_type": "stream",
     "text": [
      "+--------------------+-------------+--------------------+\n",
      "|   incidentEventType|incidentCount|          percentage|\n",
      "+--------------------+-------------+--------------------+\n",
      "|      Slip Trip Fall|         6981|  30.145090249589774|\n",
      "|    Onboard Injuries|         6563|  28.340098454097937|\n",
      "|     Personal Injury|         4596|   19.84627342602988|\n",
      "|  Collision Incident|         4166|   17.98946368425598|\n",
      "|             Assault|          590|   2.547715692201399|\n",
      "|Activity Incident...|          114| 0.49227048967959236|\n",
      "|Vandalism Hooliga...|           73|   0.315225839882546|\n",
      "|Safety Critical F...|           66| 0.28499870455134296|\n",
      "|                Fire|            6|0.025908973141031178|\n",
      "|             Robbery|            3|0.012954486570515589|\n",
      "+--------------------+-------------+--------------------+\n",
      "\n"
     ]
    }
   ],
   "source": [
    "query = \"\"\"\n",
    "SELECT \n",
    "    incidentEventType,\n",
    "    incidentCount,\n",
    "    100 * incidentCount / (SELECT COUNT(*) FROM tb_traffic_incidents) AS percentage\n",
    "FROM \n",
    "    (SELECT \n",
    "        incidentEventType,\n",
    "        COUNT(*) AS incidentCount\n",
    "    FROM \n",
    "        tb_traffic_incidents\n",
    "    GROUP BY \n",
    "        incidentEventType)\n",
    "ORDER BY percentage DESC\n",
    "\"\"\"\n",
    "\n",
    "# Execute the query\n",
    "spark.sql(query).show()"
   ]
  },
  {
   "cell_type": "code",
   "execution_count": 67,
   "metadata": {},
   "outputs": [
    {
     "data": {
      "image/png": "[encoded data removed]",
      "text/plain": [
       "<Figure size 1000x600 with 1 Axes>"
      ]
     },
     "metadata": {},
     "output_type": "display_data"
    }
   ],
   "source": [
    "plt.figure(figsize=(10, 6))\n",
    "sns.barplot(data=spark.sql(query).toPandas(), x=\"incidentEventType\", y=\"percentage\")\n",
    "plt.xlabel('Incident Event Type')\n",
    "plt.ylabel('Percentage of Incidents')\n",
    "plt.title('Percentage of Incidents by Incident Event Type')\n",
    "plt.xticks(rotation=45)  \n",
    "plt.savefig('img/plot3.png')\n",
    "plt.show()"
   ]
  },
  {
   "cell_type": "markdown",
   "metadata": {},
   "source": [
    "## 4. How did incidents per month evolve over time?"
   ]
  },
  {
   "cell_type": "code",
   "execution_count": 32,
   "metadata": {},
   "outputs": [
    {
     "name": "stdout",
     "output_type": "stream",
     "text": [
      "+----+-----+---------+-------------+\n",
      "|year|month|yearMonth|incidentCount|\n",
      "+----+-----+---------+-------------+\n",
      "|2015|    1|   2015-1|          399|\n",
      "|2015|    2|   2015-2|          371|\n",
      "|2015|    3|   2015-3|          460|\n",
      "|2015|    4|   2015-4|          470|\n",
      "|2015|    5|   2015-5|          472|\n",
      "|2015|    6|   2015-6|          564|\n",
      "|2015|    7|   2015-7|          558|\n",
      "|2015|    8|   2015-8|          446|\n",
      "|2015|    9|   2015-9|          487|\n",
      "|2015|   10|  2015-10|          470|\n",
      "|2015|   11|  2015-11|          495|\n",
      "|2015|   12|  2015-12|          523|\n",
      "|2016|    1|   2016-1|          466|\n",
      "|2016|    2|   2016-2|          484|\n",
      "|2016|    3|   2016-3|          449|\n",
      "|2016|    4|   2016-4|          504|\n",
      "|2016|    5|   2016-5|          494|\n",
      "|2016|    6|   2016-6|          460|\n",
      "|2016|    7|   2016-7|          507|\n",
      "|2016|    8|   2016-8|          513|\n",
      "+----+-----+---------+-------------+\n",
      "only showing top 20 rows\n",
      "\n"
     ]
    }
   ],
   "source": [
    "query = \"\"\"\n",
    "SELECT\n",
    "    year,\n",
    "    month,\n",
    "    CONCAT(year, '-', month) AS yearMonth,\n",
    "    COUNT(*) AS incidentCount\n",
    "FROM\n",
    "    tb_traffic_incidents\n",
    "GROUP BY\n",
    "    year, month\n",
    "ORDER BY\n",
    "    year, month;\n",
    "\"\"\"\n",
    "\n",
    "# Execute the query\n",
    "spark.sql(query).show()"
   ]
  },
  {
   "cell_type": "code",
   "execution_count": 33,
   "metadata": {},
   "outputs": [
    {
     "data": {
      "image/png": "[encoded data removed]",
      "text/plain": [
       "<Figure size 1000x600 with 1 Axes>"
      ]
     },
     "metadata": {},
     "output_type": "display_data"
    }
   ],
   "source": [
    "df_plot = spark.sql(query).toPandas()\n",
    "\n",
    "plt.figure(figsize=(10, 6))\n",
    "sns.lineplot(data=df_plot, x=\"yearMonth\", y=\"incidentCount\")\n",
    "plt.xlabel('Incident Event Type')\n",
    "plt.ylabel('Number of Incidents')\n",
    "plt.title('Number of Incidents Over Time')\n",
    "plt.xticks(df_plot.index[::2], df_plot['yearMonth'][::2], rotation=45)\n",
    "plt.show()"
   ]
  },
  {
   "cell_type": "markdown",
   "metadata": {},
   "source": [
    "## 5. When the incident was “Collision Incident” in which month were there the highest number of incidents involving females?"
   ]
  },
  {
   "cell_type": "code",
   "execution_count": 34,
   "metadata": {},
   "outputs": [
    {
     "name": "stdout",
     "output_type": "stream",
     "text": [
      "+-----+-------------+\n",
      "|month|incidentCount|\n",
      "+-----+-------------+\n",
      "|    9|          158|\n",
      "+-----+-------------+\n",
      "only showing top 1 row\n",
      "\n"
     ]
    }
   ],
   "source": [
    "query = \"\"\"\n",
    "SELECT\n",
    "    month,\n",
    "    COUNT(*) AS incidentCount\n",
    "FROM\n",
    "    tb_traffic_incidents\n",
    "WHERE\n",
    "    incidentEventType = 'Collision Incident' AND\n",
    "    victimsSex = 'Female'\n",
    "GROUP BY\n",
    "    month\n",
    "ORDER BY\n",
    "    incidentCount DESC;\n",
    "\"\"\"\n",
    "\n",
    "# Execute the query\n",
    "spark.sql(query).show(1)"
   ]
  },
  {
   "cell_type": "code",
   "execution_count": 35,
   "metadata": {},
   "outputs": [
    {
     "data": {
      "image/png": "[encoded data removed]",
      "text/plain": [
       "<Figure size 1000x600 with 1 Axes>"
      ]
     },
     "metadata": {},
     "output_type": "display_data"
    }
   ],
   "source": [
    "plt.figure(figsize=(10, 6))\n",
    "sns.barplot(data=spark.sql(query).toPandas(), x=\"month\", y=\"incidentCount\")\n",
    "plt.xlabel('month')\n",
    "plt.ylabel('Number of Incidents')\n",
    "plt.title('Females Incidents by Month')\n",
    "plt.show()"
   ]
  },
  {
   "cell_type": "markdown",
   "metadata": {},
   "source": [
    "## 6. What was the average number of incidents per month involving children (Child)?"
   ]
  },
  {
   "cell_type": "code",
   "execution_count": 36,
   "metadata": {},
   "outputs": [
    {
     "name": "stdout",
     "output_type": "stream",
     "text": [
      "+-----+------------------+\n",
      "|month|  averageIncidents|\n",
      "+-----+------------------+\n",
      "|    1|              31.5|\n",
      "|    2|              36.5|\n",
      "|    3|              47.5|\n",
      "|    4|              56.5|\n",
      "|    5|              51.5|\n",
      "|    6|             61.25|\n",
      "|    7|              58.0|\n",
      "|    8|              52.0|\n",
      "|    9|             56.25|\n",
      "|   10|              50.0|\n",
      "|   11|              40.0|\n",
      "|   12|35.666666666666664|\n",
      "+-----+------------------+\n",
      "\n"
     ]
    }
   ],
   "source": [
    "query = \"\"\"\n",
    "\n",
    "SELECT DISTINCT\n",
    "    month,\n",
    "    AVG(COUNT(*)) OVER (PARTITION BY month) AS averageIncidents\n",
    "FROM\n",
    "    tb_traffic_incidents\n",
    "WHERE\n",
    "    victimsAge = 'Child'\n",
    "GROUP BY\n",
    "    month, year\n",
    "ORDER BY\n",
    "    month;\n",
    "\n",
    "\"\"\"\n",
    "\n",
    "# Execute the query\n",
    "spark.sql(query).show()"
   ]
  },
  {
   "cell_type": "code",
   "execution_count": 37,
   "metadata": {},
   "outputs": [
    {
     "data": {
      "image/png": "[encoded data removed]",
      "text/plain": [
       "<Figure size 1000x600 with 1 Axes>"
      ]
     },
     "metadata": {},
     "output_type": "display_data"
    }
   ],
   "source": [
    "plt.figure(figsize=(10, 6))\n",
    "sns.barplot(data=spark.sql(query).toPandas(), x=\"month\", y=\"averageIncidents\")\n",
    "plt.xlabel('month')\n",
    "plt.ylabel('Average number of Incidents')\n",
    "plt.title('Average Number of Incidents per Month involving Children')\n",
    "plt.show()"
   ]
  },
  {
   "cell_type": "markdown",
   "metadata": {},
   "source": [
    "## 7. Considering the incident description as “Injuries treated on scene” (Injury Result Description column), what is the total number of incidents involving males and females?"
   ]
  },
  {
   "cell_type": "code",
   "execution_count": 38,
   "metadata": {},
   "outputs": [
    {
     "name": "stdout",
     "output_type": "stream",
     "text": [
      "+-------------+\n",
      "|incidentCount|\n",
      "+-------------+\n",
      "|        14448|\n",
      "+-------------+\n",
      "\n"
     ]
    }
   ],
   "source": [
    "query = \"\"\"\n",
    "SELECT\n",
    "    COUNT(*) AS incidentCount\n",
    "FROM\n",
    "    tb_traffic_incidents\n",
    "WHERE\n",
    "    injuryResultDescription = 'Injuries treated on scene' AND\n",
    "    victimsSex in ('Female' , 'Male')\n",
    "\"\"\"\n",
    "\n",
    "# Execute the query\n",
    "spark.sql(query).show()"
   ]
  },
  {
   "cell_type": "code",
   "execution_count": 39,
   "metadata": {},
   "outputs": [
    {
     "data": {
      "image/png": "[encoded data removed]",
      "text/plain": [
       "<Figure size 640x480 with 1 Axes>"
      ]
     },
     "metadata": {},
     "output_type": "display_data"
    }
   ],
   "source": [
    "grouped_df = pd.crosstab(df_pandas['injuryResultDescription'], df_pandas['victimsSex'])\n",
    "del grouped_df['Unknown']\n",
    "\n",
    "grouped_df.plot(kind = 'bar', stacked = True, color = ['pink', 'blue'])\n",
    "plt.xlabel('injury result description')\n",
    "plt.ylabel('total number of incidents')\n",
    "plt.title('Total Number of Incidents per Injury Result Description and Gender')\n",
    "plt.xticks(rotation=30)  \n",
    "plt.show()"
   ]
  },
  {
   "cell_type": "markdown",
   "metadata": {},
   "source": [
    "## 8. In 2017, in which month were there more incidents with the elderly (Elderly)?"
   ]
  },
  {
   "cell_type": "code",
   "execution_count": 40,
   "metadata": {},
   "outputs": [
    {
     "name": "stdout",
     "output_type": "stream",
     "text": [
      "+-----+\n",
      "|month|\n",
      "+-----+\n",
      "|    7|\n",
      "+-----+\n",
      "only showing top 1 row\n",
      "\n"
     ]
    }
   ],
   "source": [
    "query = \"\"\"\n",
    "SELECT\n",
    "    month,\n",
    "    COUNT(*) AS incidentCount\n",
    "FROM\n",
    "    tb_traffic_incidents\n",
    "WHERE\n",
    "    year = 2017 AND\n",
    "    victimsAge = 'Elderly'\n",
    "GROUP BY\n",
    "    month\n",
    "ORDER BY incidentCount DESC\n",
    "\"\"\"\n",
    "\n",
    "# Execute the query\n",
    "spark.sql(query).select('month').show(1)"
   ]
  },
  {
   "cell_type": "code",
   "execution_count": 41,
   "metadata": {},
   "outputs": [
    {
     "data": {
      "image/png": "[encoded data removed]",
      "text/plain": [
       "<Figure size 1000x600 with 1 Axes>"
      ]
     },
     "metadata": {},
     "output_type": "display_data"
    }
   ],
   "source": [
    "plt.figure(figsize=(10, 6))\n",
    "sns.barplot(data=spark.sql(query).toPandas(), x=\"month\", y=\"incidentCount\")\n",
    "plt.xlabel('month')\n",
    "plt.ylabel('Number of Incidents')\n",
    "plt.title('Number of Incidents per Month in 2017 involving Elderly')\n",
    "plt.show()"
   ]
  },
  {
   "cell_type": "markdown",
   "metadata": {},
   "source": [
    "## 9. Considering the Operator, what is the distribution of incidents over time?"
   ]
  },
  {
   "cell_type": "code",
   "execution_count": 42,
   "metadata": {},
   "outputs": [
    {
     "name": "stdout",
     "output_type": "stream",
     "text": [
      "+----+-----+---------+--------------------+-------------+\n",
      "|year|month|yearMonth|            operator|incidentCount|\n",
      "+----+-----+---------+--------------------+-------------+\n",
      "|2015|    1|   2015-1|      Abellio London|           11|\n",
      "|2015|    1|   2015-1|        Abellio West|            1|\n",
      "|2015|    1|   2015-1|Arriva Kent Thame...|           14|\n",
      "|2015|    1|   2015-1| Arriva London North|           57|\n",
      "|2015|    1|   2015-1| Arriva London South|           27|\n",
      "|2015|    1|   2015-1|   Arriva The Shires|           11|\n",
      "|2015|    1|   2015-1| Blue Triangle Buses|            2|\n",
      "|2015|    1|   2015-1|     Docklands Buses|            6|\n",
      "|2015|    1|   2015-1|         East London|            4|\n",
      "|2015|    1|   2015-1|        H R Richmond|            4|\n",
      "|2015|    1|   2015-1|      London Central|           22|\n",
      "|2015|    1|   2015-1|      London General|           43|\n",
      "|2015|    1|   2015-1|       London United|           67|\n",
      "|2015|    1|   2015-1|            Metrobus|           12|\n",
      "|2015|    1|   2015-1|           Metroline|           59|\n",
      "|2015|    1|   2015-1|      Metroline West|           25|\n",
      "|2015|    1|   2015-1|             Selkent|           27|\n",
      "|2015|    1|   2015-1|       Tower Transit|            7|\n",
      "|2015|    2|   2015-2|      Abellio London|            6|\n",
      "|2015|    2|   2015-2|        Abellio West|            1|\n",
      "+----+-----+---------+--------------------+-------------+\n",
      "only showing top 20 rows\n",
      "\n"
     ]
    }
   ],
   "source": [
    "query = \"\"\"\n",
    "SELECT\n",
    "    year,\n",
    "    month,\n",
    "    CONCAT(year, '-', month) AS yearMonth,\n",
    "    operator,\n",
    "    COUNT(*) AS incidentCount\n",
    "FROM\n",
    "    tb_traffic_incidents\n",
    "GROUP BY\n",
    "    year, month, operator\n",
    "ORDER BY\n",
    "    year, month, operator;\n",
    "\"\"\"\n",
    "\n",
    "# Execute the query\n",
    "spark.sql(query).show()"
   ]
  },
  {
   "cell_type": "code",
   "execution_count": 43,
   "metadata": {},
   "outputs": [
    {
     "data": {
      "application/vnd.plotly.v1+json": {
       "config": {
        "plotlyServerURL": "https://plot.ly"
       },
       "data": [
        {
         "hovertemplate": "Operator=Abellio London<br>Date=%{x}<br>Number of Incidents=%{y}<extra></extra>",
         "legendgroup": "Abellio London",
         "line": {
          "color": "#636efa",
          "dash": "solid"
         },
         "marker": {
          "symbol": "circle"
         },
         "mode": "lines",
         "name": "Abellio London",
         "orientation": "v",
         "showlegend": true,
         "type": "scatter",
         "x": [
          "2015-1",
          "2015-2",
          "2015-3",
          "2015-4",
          "2015-5",
          "2015-6",
          "2015-7",
          "2015-8",
          "2015-9",
          "2015-10",
          "2015-11",
          "2015-12",
          "2016-1",
          "2016-2",
          "2016-3",
          "2016-4",
          "2016-5",
          "2016-6",
          "2016-7",
          "2016-8",
          "2016-9",
          "2016-10",
          "2016-11",
          "2016-12",
          "2017-1",
          "2017-2",
          "2017-3",
          "2017-4",
          "2017-5",
          "2017-6",
          "2017-7",
          "2017-8",
          "2017-9",
          "2017-10",
          "2017-11",
          "2017-12",
          "2018-1",
          "2018-2",
          "2018-3",
          "2018-4",
          "2018-5",
          "2018-6",
          "2018-7",
          "2018-8",
          "2018-9"
         ],
         "xaxis": "x",
         "y": [
          11,
          6,
          7,
          9,
          11,
          7,
          7,
          12,
          11,
          11,
          14,
          11,
          16,
          17,
          15,
          9,
          8,
          14,
          11,
          9,
          23,
          37,
          49,
          25,
          22,
          19,
          23,
          24,
          23,
          25,
          37,
          30,
          29,
          35,
          26,
          36,
          38,
          26,
          28,
          29,
          37,
          35,
          26,
          38,
          27
         ],
         "yaxis": "y"
        },
        {
         "hovertemplate": "Operator=Abellio West<br>Date=%{x}<br>Number of Incidents=%{y}<extra></extra>",
         "legendgroup": "Abellio West",
         "line": {
          "color": "#EF553B",
          "dash": "solid"
         },
         "marker": {
          "symbol": "circle"
         },
         "mode": "lines",
         "name": "Abellio West",
         "orientation": "v",
         "showlegend": true,
         "type": "scatter",
         "x": [
          "2015-1",
          "2015-2",
          "2015-3",
          "2015-4",
          "2015-5",
          "2015-6",
          "2015-7",
          "2015-8",
          "2015-9",
          "2015-10",
          "2015-11",
          "2015-12",
          "2016-1",
          "2016-2",
          "2016-4",
          "2016-5",
          "2016-7",
          "2016-8",
          "2016-9",
          "2016-10",
          "2016-11",
          "2016-12",
          "2017-1",
          "2017-2",
          "2017-3",
          "2017-4",
          "2017-5",
          "2017-6",
          "2017-7",
          "2017-9",
          "2017-10",
          "2017-11",
          "2017-12",
          "2018-2",
          "2018-3",
          "2018-4",
          "2018-5",
          "2018-6",
          "2018-7",
          "2018-9"
         ],
         "xaxis": "x",
         "y": [
          1,
          1,
          3,
          2,
          3,
          2,
          1,
          4,
          3,
          4,
          2,
          1,
          5,
          1,
          1,
          3,
          4,
          1,
          1,
          5,
          5,
          8,
          6,
          1,
          4,
          10,
          10,
          8,
          1,
          2,
          1,
          4,
          3,
          4,
          2,
          1,
          2,
          2,
          1,
          3
         ],
         "yaxis": "y"
        },
        {
         "hovertemplate": "Operator=Arriva Kent Thameside<br>Date=%{x}<br>Number of Incidents=%{y}<extra></extra>",
         "legendgroup": "Arriva Kent Thameside",
         "line": {
          "color": "#00cc96",
          "dash": "solid"
         },
         "marker": {
          "symbol": "circle"
         },
         "mode": "lines",
         "name": "Arriva Kent Thameside",
         "orientation": "v",
         "showlegend": true,
         "type": "scatter",
         "x": [
          "2015-1",
          "2015-2",
          "2015-3",
          "2015-4",
          "2015-5",
          "2015-6",
          "2015-7",
          "2015-8",
          "2015-9",
          "2015-10",
          "2015-11",
          "2015-12",
          "2016-1",
          "2016-2",
          "2016-3",
          "2016-4",
          "2016-5"
         ],
         "xaxis": "x",
         "y": [
          14,
          3,
          9,
          9,
          4,
          8,
          4,
          10,
          2,
          2,
          2,
          6,
          4,
          10,
          10,
          9,
          1
         ],
         "yaxis": "y"
        },
        {
         "hovertemplate": "Operator=Arriva London North<br>Date=%{x}<br>Number of Incidents=%{y}<extra></extra>",
         "legendgroup": "Arriva London North",
         "line": {
          "color": "#ab63fa",
          "dash": "solid"
         },
         "marker": {
          "symbol": "circle"
         },
         "mode": "lines",
         "name": "Arriva London North",
         "orientation": "v",
         "showlegend": true,
         "type": "scatter",
         "x": [
          "2015-1",
          "2015-2",
          "2015-3",
          "2015-4",
          "2015-5",
          "2015-6",
          "2015-7",
          "2015-8",
          "2015-9",
          "2015-10",
          "2015-11",
          "2015-12",
          "2016-1",
          "2016-2",
          "2016-3",
          "2016-4",
          "2016-5",
          "2016-6",
          "2016-7",
          "2016-8",
          "2016-9",
          "2016-10",
          "2016-11",
          "2016-12",
          "2017-1",
          "2017-2",
          "2017-3",
          "2017-4",
          "2017-5",
          "2017-6",
          "2017-7",
          "2017-8",
          "2017-9",
          "2017-10",
          "2017-11",
          "2017-12",
          "2018-1",
          "2018-2",
          "2018-3",
          "2018-4",
          "2018-5",
          "2018-6",
          "2018-7",
          "2018-8",
          "2018-9"
         ],
         "xaxis": "x",
         "y": [
          57,
          60,
          88,
          53,
          64,
          80,
          77,
          41,
          69,
          70,
          71,
          59,
          49,
          49,
          69,
          53,
          55,
          45,
          56,
          55,
          60,
          62,
          61,
          42,
          15,
          65,
          92,
          118,
          76,
          92,
          89,
          88,
          84,
          125,
          101,
          81,
          74,
          91,
          98,
          61,
          96,
          90,
          95,
          52,
          80
         ],
         "yaxis": "y"
        },
        {
         "hovertemplate": "Operator=Arriva London South<br>Date=%{x}<br>Number of Incidents=%{y}<extra></extra>",
         "legendgroup": "Arriva London South",
         "line": {
          "color": "#FFA15A",
          "dash": "solid"
         },
         "marker": {
          "symbol": "circle"
         },
         "mode": "lines",
         "name": "Arriva London South",
         "orientation": "v",
         "showlegend": true,
         "type": "scatter",
         "x": [
          "2015-1",
          "2015-2",
          "2015-3",
          "2015-4",
          "2015-5",
          "2015-6",
          "2015-7",
          "2015-8",
          "2015-9",
          "2015-10",
          "2015-11",
          "2015-12",
          "2016-1",
          "2016-2",
          "2016-3",
          "2016-4",
          "2016-5",
          "2016-6",
          "2016-7",
          "2016-8",
          "2016-9",
          "2016-10",
          "2016-11",
          "2016-12",
          "2017-1",
          "2017-2",
          "2017-3",
          "2017-4",
          "2017-5",
          "2017-6",
          "2017-7",
          "2017-8",
          "2017-9",
          "2017-10",
          "2017-11",
          "2017-12",
          "2018-1",
          "2018-2",
          "2018-3",
          "2018-4",
          "2018-5",
          "2018-6",
          "2018-7",
          "2018-8",
          "2018-9"
         ],
         "xaxis": "x",
         "y": [
          27,
          28,
          39,
          35,
          46,
          49,
          60,
          32,
          49,
          35,
          33,
          49,
          39,
          36,
          20,
          46,
          40,
          40,
          20,
          42,
          32,
          39,
          41,
          34,
          15,
          31,
          39,
          52,
          48,
          37,
          61,
          43,
          34,
          37,
          38,
          35,
          39,
          34,
          36,
          48,
          38,
          48,
          42,
          37,
          40
         ],
         "yaxis": "y"
        },
        {
         "hovertemplate": "Operator=Arriva The Shires<br>Date=%{x}<br>Number of Incidents=%{y}<extra></extra>",
         "legendgroup": "Arriva The Shires",
         "line": {
          "color": "#19d3f3",
          "dash": "solid"
         },
         "marker": {
          "symbol": "circle"
         },
         "mode": "lines",
         "name": "Arriva The Shires",
         "orientation": "v",
         "showlegend": true,
         "type": "scatter",
         "x": [
          "2015-1",
          "2015-2",
          "2015-3",
          "2015-4",
          "2015-5",
          "2015-6",
          "2015-7",
          "2015-8",
          "2015-9",
          "2015-10",
          "2015-11",
          "2015-12",
          "2016-1",
          "2016-2",
          "2016-3",
          "2016-4",
          "2016-5",
          "2016-6",
          "2016-7",
          "2016-8",
          "2016-9",
          "2016-10",
          "2016-11",
          "2016-12",
          "2017-1",
          "2017-2"
         ],
         "xaxis": "x",
         "y": [
          11,
          7,
          7,
          6,
          15,
          19,
          9,
          7,
          14,
          11,
          10,
          10,
          11,
          15,
          2,
          7,
          16,
          6,
          8,
          13,
          10,
          17,
          1,
          1,
          50,
          22
         ],
         "yaxis": "y"
        },
        {
         "hovertemplate": "Operator=Blue Triangle Buses<br>Date=%{x}<br>Number of Incidents=%{y}<extra></extra>",
         "legendgroup": "Blue Triangle Buses",
         "line": {
          "color": "#FF6692",
          "dash": "solid"
         },
         "marker": {
          "symbol": "circle"
         },
         "mode": "lines",
         "name": "Blue Triangle Buses",
         "orientation": "v",
         "showlegend": true,
         "type": "scatter",
         "x": [
          "2015-1",
          "2015-2",
          "2015-3",
          "2015-4",
          "2015-5",
          "2015-6",
          "2015-7",
          "2015-8",
          "2015-9",
          "2015-10",
          "2015-11",
          "2015-12",
          "2016-1",
          "2016-2",
          "2016-3",
          "2016-4",
          "2016-5",
          "2016-6",
          "2016-7",
          "2016-9",
          "2016-10",
          "2016-11",
          "2016-12",
          "2017-1",
          "2017-2",
          "2017-3",
          "2017-4",
          "2017-5",
          "2017-6",
          "2017-7",
          "2017-8",
          "2017-9",
          "2017-10",
          "2017-11",
          "2017-12",
          "2018-1",
          "2018-2",
          "2018-3",
          "2018-4",
          "2018-5",
          "2018-6",
          "2018-7",
          "2018-8",
          "2018-9"
         ],
         "xaxis": "x",
         "y": [
          2,
          1,
          6,
          2,
          2,
          4,
          1,
          9,
          3,
          2,
          1,
          2,
          1,
          2,
          3,
          1,
          1,
          2,
          1,
          2,
          4,
          9,
          3,
          8,
          14,
          10,
          10,
          8,
          15,
          5,
          10,
          14,
          11,
          8,
          4,
          18,
          10,
          11,
          8,
          24,
          13,
          7,
          5,
          4
         ],
         "yaxis": "y"
        },
        {
         "hovertemplate": "Operator=Docklands Buses<br>Date=%{x}<br>Number of Incidents=%{y}<extra></extra>",
         "legendgroup": "Docklands Buses",
         "line": {
          "color": "#B6E880",
          "dash": "solid"
         },
         "marker": {
          "symbol": "circle"
         },
         "mode": "lines",
         "name": "Docklands Buses",
         "orientation": "v",
         "showlegend": true,
         "type": "scatter",
         "x": [
          "2015-1",
          "2015-2",
          "2015-3",
          "2015-4",
          "2015-5",
          "2015-6",
          "2015-7",
          "2015-8",
          "2015-9",
          "2015-10",
          "2015-11",
          "2015-12",
          "2016-1",
          "2016-2",
          "2016-4",
          "2016-7",
          "2016-8",
          "2016-9",
          "2016-10",
          "2016-11",
          "2016-12",
          "2017-2",
          "2017-3",
          "2017-4",
          "2017-6",
          "2017-7",
          "2017-8",
          "2017-9",
          "2017-10",
          "2017-11",
          "2017-12",
          "2018-1",
          "2018-2",
          "2018-3",
          "2018-4",
          "2018-5",
          "2018-6",
          "2018-7",
          "2018-8",
          "2018-9"
         ],
         "xaxis": "x",
         "y": [
          6,
          1,
          1,
          2,
          2,
          2,
          1,
          3,
          7,
          4,
          2,
          3,
          2,
          4,
          1,
          1,
          1,
          1,
          3,
          5,
          1,
          1,
          1,
          1,
          3,
          1,
          3,
          1,
          1,
          2,
          3,
          1,
          2,
          2,
          11,
          3,
          4,
          2,
          1,
          4
         ],
         "yaxis": "y"
        },
        {
         "hovertemplate": "Operator=East London<br>Date=%{x}<br>Number of Incidents=%{y}<extra></extra>",
         "legendgroup": "East London",
         "line": {
          "color": "#FF97FF",
          "dash": "solid"
         },
         "marker": {
          "symbol": "circle"
         },
         "mode": "lines",
         "name": "East London",
         "orientation": "v",
         "showlegend": true,
         "type": "scatter",
         "x": [
          "2015-1",
          "2015-2",
          "2015-3",
          "2015-4",
          "2015-5",
          "2015-6",
          "2015-7",
          "2015-8",
          "2015-9",
          "2015-10",
          "2015-11",
          "2015-12",
          "2016-1",
          "2016-2",
          "2016-3",
          "2016-4",
          "2016-5",
          "2016-6",
          "2016-7",
          "2016-8",
          "2016-9",
          "2016-10",
          "2016-11",
          "2016-12",
          "2017-1",
          "2017-2",
          "2017-3",
          "2017-4",
          "2017-5",
          "2017-6",
          "2017-7",
          "2017-8",
          "2017-9",
          "2017-10",
          "2017-11",
          "2017-12",
          "2018-1",
          "2018-2",
          "2018-3",
          "2018-4",
          "2018-5",
          "2018-6",
          "2018-7",
          "2018-8",
          "2018-9"
         ],
         "xaxis": "x",
         "y": [
          4,
          29,
          50,
          78,
          67,
          101,
          55,
          48,
          45,
          46,
          78,
          80,
          68,
          70,
          66,
          83,
          56,
          68,
          69,
          82,
          61,
          56,
          73,
          60,
          46,
          53,
          58,
          52,
          39,
          55,
          60,
          32,
          42,
          49,
          54,
          38,
          34,
          38,
          36,
          31,
          31,
          35,
          34,
          46,
          46
         ],
         "yaxis": "y"
        },
        {
         "hovertemplate": "Operator=H R Richmond<br>Date=%{x}<br>Number of Incidents=%{y}<extra></extra>",
         "legendgroup": "H R Richmond",
         "line": {
          "color": "#FECB52",
          "dash": "solid"
         },
         "marker": {
          "symbol": "circle"
         },
         "mode": "lines",
         "name": "H R Richmond",
         "orientation": "v",
         "showlegend": true,
         "type": "scatter",
         "x": [
          "2015-1",
          "2015-3",
          "2015-4",
          "2015-5",
          "2015-6",
          "2015-8",
          "2015-9",
          "2015-12",
          "2016-1",
          "2016-2",
          "2016-3",
          "2016-4",
          "2016-6",
          "2016-7",
          "2016-8",
          "2016-9",
          "2016-10",
          "2016-11",
          "2016-12",
          "2017-1",
          "2017-2",
          "2017-3",
          "2017-4",
          "2017-6"
         ],
         "xaxis": "x",
         "y": [
          4,
          10,
          2,
          4,
          3,
          2,
          1,
          3,
          2,
          1,
          3,
          1,
          1,
          2,
          1,
          1,
          2,
          1,
          2,
          5,
          2,
          3,
          1,
          2
         ],
         "yaxis": "y"
        },
        {
         "hovertemplate": "Operator=London Central<br>Date=%{x}<br>Number of Incidents=%{y}<extra></extra>",
         "legendgroup": "London Central",
         "line": {
          "color": "#636efa",
          "dash": "solid"
         },
         "marker": {
          "symbol": "circle"
         },
         "mode": "lines",
         "name": "London Central",
         "orientation": "v",
         "showlegend": true,
         "type": "scatter",
         "x": [
          "2015-1",
          "2015-2",
          "2015-3",
          "2015-4",
          "2015-5",
          "2015-6",
          "2015-7",
          "2015-8",
          "2015-9",
          "2015-10",
          "2015-11",
          "2015-12",
          "2016-1",
          "2016-2",
          "2016-3",
          "2016-4",
          "2016-5",
          "2016-6",
          "2016-7",
          "2016-8",
          "2016-9",
          "2016-10",
          "2016-11",
          "2016-12",
          "2017-1",
          "2017-2",
          "2017-3",
          "2017-4",
          "2017-5",
          "2017-6",
          "2017-7",
          "2017-8",
          "2017-9",
          "2017-10",
          "2017-11",
          "2017-12",
          "2018-1",
          "2018-2",
          "2018-3",
          "2018-4",
          "2018-5",
          "2018-6",
          "2018-7",
          "2018-8",
          "2018-9"
         ],
         "xaxis": "x",
         "y": [
          22,
          17,
          27,
          30,
          23,
          31,
          31,
          22,
          18,
          16,
          22,
          25,
          11,
          22,
          18,
          13,
          41,
          28,
          16,
          30,
          49,
          34,
          31,
          34,
          10,
          27,
          36,
          27,
          34,
          31,
          51,
          42,
          44,
          49,
          48,
          39,
          34,
          16,
          33,
          45,
          57,
          47,
          42,
          25,
          19
         ],
         "yaxis": "y"
        },
        {
         "hovertemplate": "Operator=London General<br>Date=%{x}<br>Number of Incidents=%{y}<extra></extra>",
         "legendgroup": "London General",
         "line": {
          "color": "#EF553B",
          "dash": "solid"
         },
         "marker": {
          "symbol": "circle"
         },
         "mode": "lines",
         "name": "London General",
         "orientation": "v",
         "showlegend": true,
         "type": "scatter",
         "x": [
          "2015-1",
          "2015-2",
          "2015-3",
          "2015-4",
          "2015-5",
          "2015-6",
          "2015-7",
          "2015-8",
          "2015-9",
          "2015-10",
          "2015-11",
          "2015-12",
          "2016-1",
          "2016-2",
          "2016-3",
          "2016-4",
          "2016-5",
          "2016-6",
          "2016-7",
          "2016-8",
          "2016-9",
          "2016-10",
          "2016-11",
          "2016-12",
          "2017-1",
          "2017-2",
          "2017-3",
          "2017-4",
          "2017-5",
          "2017-6",
          "2017-7",
          "2017-8",
          "2017-9",
          "2017-10",
          "2017-11",
          "2017-12",
          "2018-1",
          "2018-2",
          "2018-3",
          "2018-4",
          "2018-5",
          "2018-6",
          "2018-7",
          "2018-8",
          "2018-9"
         ],
         "xaxis": "x",
         "y": [
          43,
          36,
          27,
          42,
          45,
          32,
          32,
          44,
          56,
          29,
          32,
          38,
          50,
          42,
          39,
          45,
          39,
          31,
          35,
          34,
          50,
          48,
          46,
          45,
          34,
          44,
          54,
          36,
          40,
          42,
          50,
          30,
          27,
          45,
          35,
          24,
          38,
          28,
          31,
          24,
          32,
          31,
          50,
          38,
          30
         ],
         "yaxis": "y"
        },
        {
         "hovertemplate": "Operator=London United<br>Date=%{x}<br>Number of Incidents=%{y}<extra></extra>",
         "legendgroup": "London United",
         "line": {
          "color": "#00cc96",
          "dash": "solid"
         },
         "marker": {
          "symbol": "circle"
         },
         "mode": "lines",
         "name": "London United",
         "orientation": "v",
         "showlegend": true,
         "type": "scatter",
         "x": [
          "2015-1",
          "2015-2",
          "2015-3",
          "2015-4",
          "2015-5",
          "2015-6",
          "2015-7",
          "2015-8",
          "2015-9",
          "2015-10",
          "2015-11",
          "2015-12",
          "2016-1",
          "2016-2",
          "2016-3",
          "2016-4",
          "2016-5",
          "2016-6",
          "2016-7",
          "2016-8",
          "2016-9",
          "2016-10",
          "2016-11",
          "2016-12",
          "2017-1",
          "2017-2",
          "2017-3",
          "2017-4",
          "2017-5",
          "2017-6",
          "2017-7",
          "2017-8",
          "2017-9",
          "2017-10",
          "2017-11",
          "2017-12",
          "2018-1",
          "2018-2",
          "2018-3",
          "2018-4",
          "2018-5",
          "2018-6",
          "2018-7",
          "2018-8",
          "2018-9"
         ],
         "xaxis": "x",
         "y": [
          67,
          53,
          66,
          54,
          60,
          61,
          75,
          61,
          46,
          60,
          47,
          55,
          46,
          36,
          57,
          42,
          40,
          49,
          60,
          47,
          56,
          38,
          59,
          47,
          39,
          34,
          46,
          42,
          44,
          34,
          49,
          64,
          38,
          34,
          53,
          41,
          55,
          53,
          45,
          46,
          47,
          55,
          56,
          56,
          50
         ],
         "yaxis": "y"
        },
        {
         "hovertemplate": "Operator=Metrobus<br>Date=%{x}<br>Number of Incidents=%{y}<extra></extra>",
         "legendgroup": "Metrobus",
         "line": {
          "color": "#ab63fa",
          "dash": "solid"
         },
         "marker": {
          "symbol": "circle"
         },
         "mode": "lines",
         "name": "Metrobus",
         "orientation": "v",
         "showlegend": true,
         "type": "scatter",
         "x": [
          "2015-1",
          "2015-2",
          "2015-3",
          "2015-4",
          "2015-5",
          "2015-6",
          "2015-7",
          "2015-8",
          "2015-9",
          "2015-10",
          "2015-11",
          "2015-12",
          "2016-1",
          "2016-2",
          "2016-3",
          "2016-4",
          "2016-5",
          "2016-6",
          "2016-7",
          "2016-8",
          "2016-9",
          "2016-10",
          "2016-11",
          "2016-12",
          "2017-1",
          "2017-2",
          "2017-3",
          "2017-4",
          "2017-5",
          "2017-6",
          "2017-7",
          "2017-8",
          "2017-9",
          "2017-10",
          "2017-11",
          "2017-12",
          "2018-1",
          "2018-2",
          "2018-3",
          "2018-4",
          "2018-5",
          "2018-6",
          "2018-7",
          "2018-8",
          "2018-9"
         ],
         "xaxis": "x",
         "y": [
          12,
          15,
          24,
          30,
          13,
          19,
          20,
          13,
          31,
          25,
          20,
          24,
          19,
          15,
          17,
          18,
          21,
          28,
          27,
          17,
          28,
          18,
          23,
          15,
          16,
          9,
          22,
          19,
          6,
          16,
          10,
          21,
          18,
          13,
          10,
          15,
          10,
          12,
          22,
          22,
          11,
          14,
          9,
          10,
          9
         ],
         "yaxis": "y"
        },
        {
         "hovertemplate": "Operator=Metroline<br>Date=%{x}<br>Number of Incidents=%{y}<extra></extra>",
         "legendgroup": "Metroline",
         "line": {
          "color": "#FFA15A",
          "dash": "solid"
         },
         "marker": {
          "symbol": "circle"
         },
         "mode": "lines",
         "name": "Metroline",
         "orientation": "v",
         "showlegend": true,
         "type": "scatter",
         "x": [
          "2015-1",
          "2015-2",
          "2015-3",
          "2015-4",
          "2015-5",
          "2015-6",
          "2015-7",
          "2015-8",
          "2015-9",
          "2015-10",
          "2015-11",
          "2015-12",
          "2016-1",
          "2016-2",
          "2016-3",
          "2016-4",
          "2016-5",
          "2016-6",
          "2016-7",
          "2016-8",
          "2016-9",
          "2016-10",
          "2016-11",
          "2016-12",
          "2017-1",
          "2017-2",
          "2017-3",
          "2017-4",
          "2017-5",
          "2017-6",
          "2017-7",
          "2017-8",
          "2017-9",
          "2017-10",
          "2017-11",
          "2017-12",
          "2018-1",
          "2018-2",
          "2018-3",
          "2018-4",
          "2018-5",
          "2018-6",
          "2018-7",
          "2018-8",
          "2018-9"
         ],
         "xaxis": "x",
         "y": [
          59,
          74,
          63,
          73,
          62,
          104,
          92,
          83,
          78,
          80,
          72,
          74,
          72,
          69,
          59,
          80,
          62,
          56,
          71,
          76,
          88,
          81,
          95,
          55,
          67,
          62,
          69,
          77,
          85,
          59,
          90,
          87,
          95,
          87,
          75,
          87,
          103,
          88,
          87,
          73,
          90,
          69,
          84,
          73,
          72
         ],
         "yaxis": "y"
        },
        {
         "hovertemplate": "Operator=Metroline West<br>Date=%{x}<br>Number of Incidents=%{y}<extra></extra>",
         "legendgroup": "Metroline West",
         "line": {
          "color": "#19d3f3",
          "dash": "solid"
         },
         "marker": {
          "symbol": "circle"
         },
         "mode": "lines",
         "name": "Metroline West",
         "orientation": "v",
         "showlegend": true,
         "type": "scatter",
         "x": [
          "2015-1",
          "2015-2",
          "2015-3",
          "2015-4",
          "2015-5",
          "2015-6",
          "2015-7",
          "2015-8",
          "2015-9",
          "2015-10",
          "2015-11",
          "2015-12",
          "2016-1",
          "2016-2",
          "2016-3",
          "2016-4",
          "2016-5",
          "2016-6",
          "2016-7",
          "2016-8",
          "2016-9",
          "2016-10",
          "2016-11",
          "2016-12",
          "2017-1",
          "2017-2",
          "2017-3",
          "2017-4",
          "2017-5",
          "2017-6",
          "2017-7",
          "2017-8",
          "2017-9",
          "2017-10",
          "2017-11",
          "2017-12",
          "2018-1",
          "2018-2",
          "2018-3",
          "2018-4",
          "2018-5",
          "2018-6",
          "2018-7",
          "2018-8",
          "2018-9"
         ],
         "xaxis": "x",
         "y": [
          25,
          18,
          21,
          30,
          29,
          29,
          40,
          18,
          14,
          31,
          26,
          25,
          16,
          35,
          19,
          25,
          34,
          29,
          30,
          35,
          25,
          26,
          24,
          41,
          29,
          31,
          35,
          32,
          31,
          25,
          45,
          31,
          27,
          42,
          23,
          22,
          23,
          21,
          19,
          32,
          28,
          17,
          25,
          21,
          28
         ],
         "yaxis": "y"
        },
        {
         "hovertemplate": "Operator=Selkent<br>Date=%{x}<br>Number of Incidents=%{y}<extra></extra>",
         "legendgroup": "Selkent",
         "line": {
          "color": "#FF6692",
          "dash": "solid"
         },
         "marker": {
          "symbol": "circle"
         },
         "mode": "lines",
         "name": "Selkent",
         "orientation": "v",
         "showlegend": true,
         "type": "scatter",
         "x": [
          "2015-1",
          "2015-2",
          "2015-4",
          "2015-5",
          "2015-7",
          "2015-8",
          "2015-9",
          "2015-10",
          "2015-11",
          "2015-12",
          "2016-1",
          "2016-2",
          "2016-3",
          "2016-4",
          "2016-5",
          "2016-6",
          "2016-7",
          "2016-8",
          "2016-9",
          "2016-10",
          "2016-11",
          "2016-12",
          "2017-1",
          "2017-2",
          "2017-3",
          "2017-4",
          "2017-5",
          "2017-6",
          "2017-7",
          "2017-8",
          "2017-9",
          "2017-10",
          "2017-11",
          "2017-12",
          "2018-1",
          "2018-2",
          "2018-3",
          "2018-4",
          "2018-5",
          "2018-6",
          "2018-7",
          "2018-8",
          "2018-9"
         ],
         "xaxis": "x",
         "y": [
          27,
          11,
          3,
          2,
          36,
          25,
          25,
          32,
          41,
          44,
          34,
          38,
          40,
          38,
          54,
          31,
          66,
          47,
          46,
          51,
          46,
          22,
          43,
          49,
          44,
          26,
          29,
          46,
          53,
          48,
          52,
          55,
          70,
          58,
          54,
          40,
          47,
          48,
          60,
          59,
          54,
          60,
          54
         ],
         "yaxis": "y"
        },
        {
         "hovertemplate": "Operator=Tower Transit<br>Date=%{x}<br>Number of Incidents=%{y}<extra></extra>",
         "legendgroup": "Tower Transit",
         "line": {
          "color": "#B6E880",
          "dash": "solid"
         },
         "marker": {
          "symbol": "circle"
         },
         "mode": "lines",
         "name": "Tower Transit",
         "orientation": "v",
         "showlegend": true,
         "type": "scatter",
         "x": [
          "2015-1",
          "2015-2",
          "2015-3",
          "2015-4",
          "2015-5",
          "2015-6",
          "2015-7",
          "2015-8",
          "2015-9",
          "2015-10",
          "2015-11",
          "2015-12",
          "2016-1",
          "2016-2",
          "2016-3",
          "2016-4",
          "2016-5",
          "2016-6",
          "2016-7",
          "2016-8",
          "2016-9",
          "2016-10",
          "2016-11",
          "2016-12",
          "2017-1",
          "2017-2",
          "2017-3",
          "2017-4",
          "2017-5",
          "2017-6",
          "2017-7",
          "2017-8",
          "2017-9",
          "2017-10",
          "2017-11",
          "2017-12",
          "2018-1",
          "2018-2",
          "2018-3",
          "2018-4",
          "2018-5",
          "2018-6",
          "2018-7",
          "2018-8",
          "2018-9"
         ],
         "xaxis": "x",
         "y": [
          7,
          8,
          5,
          6,
          14,
          4,
          12,
          8,
          6,
          10,
          16,
          12,
          18,
          15,
          8,
          25,
          17,
          15,
          13,
          12,
          16,
          14,
          30,
          20,
          22,
          17,
          32,
          32,
          29,
          22,
          34,
          24,
          35,
          19,
          16,
          21,
          13,
          21,
          15,
          10,
          10,
          19,
          11,
          11,
          14
         ],
         "yaxis": "y"
        },
        {
         "hovertemplate": "Operator=C T Plus<br>Date=%{x}<br>Number of Incidents=%{y}<extra></extra>",
         "legendgroup": "C T Plus",
         "line": {
          "color": "#FF97FF",
          "dash": "solid"
         },
         "marker": {
          "symbol": "circle"
         },
         "mode": "lines",
         "name": "C T Plus",
         "orientation": "v",
         "showlegend": true,
         "type": "scatter",
         "x": [
          "2015-2",
          "2015-4",
          "2015-6",
          "2015-7",
          "2015-8",
          "2015-9",
          "2015-10",
          "2015-11",
          "2016-1",
          "2016-2",
          "2016-3",
          "2016-4",
          "2016-6",
          "2016-7",
          "2016-8",
          "2016-9",
          "2016-10",
          "2017-3",
          "2017-4",
          "2017-5",
          "2017-6",
          "2017-7",
          "2017-9",
          "2017-10",
          "2017-11",
          "2017-12",
          "2018-1",
          "2018-2",
          "2018-3",
          "2018-4",
          "2018-5",
          "2018-6",
          "2018-7",
          "2018-8",
          "2018-9"
         ],
         "xaxis": "x",
         "y": [
          2,
          3,
          3,
          2,
          2,
          1,
          1,
          1,
          1,
          1,
          3,
          4,
          1,
          1,
          3,
          2,
          2,
          5,
          1,
          1,
          2,
          5,
          1,
          2,
          1,
          1,
          1,
          5,
          3,
          2,
          4,
          3,
          3,
          1,
          3
         ],
         "yaxis": "y"
        },
        {
         "hovertemplate": "Operator=London Sovereign<br>Date=%{x}<br>Number of Incidents=%{y}<extra></extra>",
         "legendgroup": "London Sovereign",
         "line": {
          "color": "#FECB52",
          "dash": "solid"
         },
         "marker": {
          "symbol": "circle"
         },
         "mode": "lines",
         "name": "London Sovereign",
         "orientation": "v",
         "showlegend": true,
         "type": "scatter",
         "x": [
          "2015-2",
          "2015-3",
          "2015-4",
          "2015-5",
          "2015-6",
          "2015-7",
          "2015-8",
          "2015-9",
          "2015-10",
          "2015-11",
          "2015-12",
          "2016-1",
          "2016-2",
          "2016-3",
          "2016-4",
          "2016-5",
          "2016-6",
          "2016-7",
          "2016-8",
          "2016-9",
          "2016-10",
          "2016-11",
          "2016-12",
          "2017-1",
          "2017-2",
          "2017-3",
          "2017-4",
          "2017-5",
          "2017-6",
          "2017-7",
          "2017-8",
          "2017-9",
          "2017-10",
          "2017-11",
          "2017-12",
          "2018-1",
          "2018-2",
          "2018-3",
          "2018-4",
          "2018-5",
          "2018-6",
          "2018-7",
          "2018-9"
         ],
         "xaxis": "x",
         "y": [
          1,
          7,
          1,
          6,
          6,
          3,
          2,
          8,
          1,
          5,
          2,
          2,
          6,
          1,
          2,
          3,
          10,
          8,
          6,
          15,
          7,
          5,
          10,
          4,
          4,
          6,
          3,
          6,
          2,
          4,
          9,
          5,
          6,
          4,
          4,
          4,
          2,
          5,
          7,
          4,
          7,
          2,
          1
         ],
         "yaxis": "y"
        },
        {
         "hovertemplate": "Operator=Sullivan Buses<br>Date=%{x}<br>Number of Incidents=%{y}<extra></extra>",
         "legendgroup": "Sullivan Buses",
         "line": {
          "color": "#636efa",
          "dash": "solid"
         },
         "marker": {
          "symbol": "circle"
         },
         "mode": "lines",
         "name": "Sullivan Buses",
         "orientation": "v",
         "showlegend": true,
         "type": "scatter",
         "x": [
          "2016-4",
          "2016-7"
         ],
         "xaxis": "x",
         "y": [
          1,
          1
         ],
         "yaxis": "y"
        },
        {
         "hovertemplate": "Operator=TGM GROUP<br>Date=%{x}<br>Number of Incidents=%{y}<extra></extra>",
         "legendgroup": "TGM GROUP",
         "line": {
          "color": "#EF553B",
          "dash": "solid"
         },
         "marker": {
          "symbol": "circle"
         },
         "mode": "lines",
         "name": "TGM GROUP",
         "orientation": "v",
         "showlegend": true,
         "type": "scatter",
         "x": [
          "2016-5",
          "2016-6",
          "2016-7",
          "2016-8",
          "2016-9",
          "2016-10",
          "2016-11",
          "2016-12",
          "2017-1",
          "2017-2"
         ],
         "xaxis": "x",
         "y": [
          3,
          6,
          7,
          2,
          16,
          7,
          8,
          6,
          4,
          2
         ],
         "yaxis": "y"
        },
        {
         "hovertemplate": "Operator=Uno Buses<br>Date=%{x}<br>Number of Incidents=%{y}<extra></extra>",
         "legendgroup": "Uno Buses",
         "line": {
          "color": "#00cc96",
          "dash": "solid"
         },
         "marker": {
          "symbol": "circle"
         },
         "mode": "lines",
         "name": "Uno Buses",
         "orientation": "v",
         "showlegend": true,
         "type": "scatter",
         "x": [
          "2017-5"
         ],
         "xaxis": "x",
         "y": [
          1
         ],
         "yaxis": "y"
        },
        {
         "hovertemplate": "Operator=Quality Line<br>Date=%{x}<br>Number of Incidents=%{y}<extra></extra>",
         "legendgroup": "Quality Line",
         "line": {
          "color": "#ab63fa",
          "dash": "solid"
         },
         "marker": {
          "symbol": "circle"
         },
         "mode": "lines",
         "name": "Quality Line",
         "orientation": "v",
         "showlegend": true,
         "type": "scatter",
         "x": [
          "2017-7",
          "2017-8",
          "2017-9",
          "2017-10",
          "2017-11",
          "2017-12",
          "2018-1",
          "2018-2",
          "2018-3",
          "2018-4",
          "2018-5",
          "2018-6",
          "2018-7",
          "2018-8",
          "2018-9"
         ],
         "xaxis": "x",
         "y": [
          5,
          1,
          1,
          10,
          16,
          4,
          7,
          16,
          15,
          9,
          15,
          9,
          10,
          17,
          7
         ],
         "yaxis": "y"
        },
        {
         "hovertemplate": "Operator=Sullivan Bus & Coach<br>Date=%{x}<br>Number of Incidents=%{y}<extra></extra>",
         "legendgroup": "Sullivan Bus & Coach",
         "line": {
          "color": "#FFA15A",
          "dash": "solid"
         },
         "marker": {
          "symbol": "circle"
         },
         "mode": "lines",
         "name": "Sullivan Bus & Coach",
         "orientation": "v",
         "showlegend": true,
         "type": "scatter",
         "x": [
          "2018-1"
         ],
         "xaxis": "x",
         "y": [
          1
         ],
         "yaxis": "y"
        }
       ],
       "layout": {
        "height": 600,
        "legend": {
         "title": {
          "text": "Operator"
         },
         "tracegroupgap": 0
        },
        "margin": {
         "t": 60
        },
        "template": {
         "data": {
          "bar": [
           {
            "error_x": {
             "color": "#2a3f5f"
            },
            "error_y": {
             "color": "#2a3f5f"
            },
            "marker": {
             "line": {
              "color": "#E5ECF6",
              "width": 0.5
             },
             "pattern": {
              "fillmode": "overlay",
              "size": 10,
              "solidity": 0.2
             }
            },
            "type": "bar"
           }
          ],
          "barpolar": [
           {
            "marker": {
             "line": {
              "color": "#E5ECF6",
              "width": 0.5
             },
             "pattern": {
              "fillmode": "overlay",
              "size": 10,
              "solidity": 0.2
             }
            },
            "type": "barpolar"
           }
          ],
          "carpet": [
           {
            "aaxis": {
             "endlinecolor": "#2a3f5f",
             "gridcolor": "white",
             "linecolor": "white",
             "minorgridcolor": "white",
             "startlinecolor": "#2a3f5f"
            },
            "baxis": {
             "endlinecolor": "#2a3f5f",
             "gridcolor": "white",
             "linecolor": "white",
             "minorgridcolor": "white",
             "startlinecolor": "#2a3f5f"
            },
            "type": "carpet"
           }
          ],
          "choropleth": [
           {
            "colorbar": {
             "outlinewidth": 0,
             "ticks": ""
            },
            "type": "choropleth"
           }
          ],
          "contour": [
           {
            "colorbar": {
             "outlinewidth": 0,
             "ticks": ""
            },
            "colorscale": [
             [
              0,
              "#0d0887"
             ],
             [
              0.1111111111111111,
              "#46039f"
             ],
             [
              0.2222222222222222,
              "#7201a8"
             ],
             [
              0.3333333333333333,
              "#9c179e"
             ],
             [
              0.4444444444444444,
              "#bd3786"
             ],
             [
              0.5555555555555556,
              "#d8576b"
             ],
             [
              0.6666666666666666,
              "#ed7953"
             ],
             [
              0.7777777777777778,
              "#fb9f3a"
             ],
             [
              0.8888888888888888,
              "#fdca26"
             ],
             [
              1,
              "#f0f921"
             ]
            ],
            "type": "contour"
           }
          ],
          "contourcarpet": [
           {
            "colorbar": {
             "outlinewidth": 0,
             "ticks": ""
            },
            "type": "contourcarpet"
           }
          ],
          "heatmap": [
           {
            "colorbar": {
             "outlinewidth": 0,
             "ticks": ""
            },
            "colorscale": [
             [
              0,
              "#0d0887"
             ],
             [
              0.1111111111111111,
              "#46039f"
             ],
             [
              0.2222222222222222,
              "#7201a8"
             ],
             [
              0.3333333333333333,
              "#9c179e"
             ],
             [
              0.4444444444444444,
              "#bd3786"
             ],
             [
              0.5555555555555556,
              "#d8576b"
             ],
             [
              0.6666666666666666,
              "#ed7953"
             ],
             [
              0.7777777777777778,
              "#fb9f3a"
             ],
             [
              0.8888888888888888,
              "#fdca26"
             ],
             [
              1,
              "#f0f921"
             ]
            ],
            "type": "heatmap"
           }
          ],
          "heatmapgl": [
           {
            "colorbar": {
             "outlinewidth": 0,
             "ticks": ""
            },
            "colorscale": [
             [
              0,
              "#0d0887"
             ],
             [
              0.1111111111111111,
              "#46039f"
             ],
             [
              0.2222222222222222,
              "#7201a8"
             ],
             [
              0.3333333333333333,
              "#9c179e"
             ],
             [
              0.4444444444444444,
              "#bd3786"
             ],
             [
              0.5555555555555556,
              "#d8576b"
             ],
             [
              0.6666666666666666,
              "#ed7953"
             ],
             [
              0.7777777777777778,
              "#fb9f3a"
             ],
             [
              0.8888888888888888,
              "#fdca26"
             ],
             [
              1,
              "#f0f921"
             ]
            ],
            "type": "heatmapgl"
           }
          ],
          "histogram": [
           {
            "marker": {
             "pattern": {
              "fillmode": "overlay",
              "size": 10,
              "solidity": 0.2
             }
            },
            "type": "histogram"
           }
          ],
          "histogram2d": [
           {
            "colorbar": {
             "outlinewidth": 0,
             "ticks": ""
            },
            "colorscale": [
             [
              0,
              "#0d0887"
             ],
             [
              0.1111111111111111,
              "#46039f"
             ],
             [
              0.2222222222222222,
              "#7201a8"
             ],
             [
              0.3333333333333333,
              "#9c179e"
             ],
             [
              0.4444444444444444,
              "#bd3786"
             ],
             [
              0.5555555555555556,
              "#d8576b"
             ],
             [
              0.6666666666666666,
              "#ed7953"
             ],
             [
              0.7777777777777778,
              "#fb9f3a"
             ],
             [
              0.8888888888888888,
              "#fdca26"
             ],
             [
              1,
              "#f0f921"
             ]
            ],
            "type": "histogram2d"
           }
          ],
          "histogram2dcontour": [
           {
            "colorbar": {
             "outlinewidth": 0,
             "ticks": ""
            },
            "colorscale": [
             [
              0,
              "#0d0887"
             ],
             [
              0.1111111111111111,
              "#46039f"
             ],
             [
              0.2222222222222222,
              "#7201a8"
             ],
             [
              0.3333333333333333,
              "#9c179e"
             ],
             [
              0.4444444444444444,
              "#bd3786"
             ],
             [
              0.5555555555555556,
              "#d8576b"
             ],
             [
              0.6666666666666666,
              "#ed7953"
             ],
             [
              0.7777777777777778,
              "#fb9f3a"
             ],
             [
              0.8888888888888888,
              "#fdca26"
             ],
             [
              1,
              "#f0f921"
             ]
            ],
            "type": "histogram2dcontour"
           }
          ],
          "mesh3d": [
           {
            "colorbar": {
             "outlinewidth": 0,
             "ticks": ""
            },
            "type": "mesh3d"
           }
          ],
          "parcoords": [
           {
            "line": {
             "colorbar": {
              "outlinewidth": 0,
              "ticks": ""
             }
            },
            "type": "parcoords"
           }
          ],
          "pie": [
           {
            "automargin": true,
            "type": "pie"
           }
          ],
          "scatter": [
           {
            "fillpattern": {
             "fillmode": "overlay",
             "size": 10,
             "solidity": 0.2
            },
            "type": "scatter"
           }
          ],
          "scatter3d": [
           {
            "line": {
             "colorbar": {
              "outlinewidth": 0,
              "ticks": ""
             }
            },
            "marker": {
             "colorbar": {
              "outlinewidth": 0,
              "ticks": ""
             }
            },
            "type": "scatter3d"
           }
          ],
          "scattercarpet": [
           {
            "marker": {
             "colorbar": {
              "outlinewidth": 0,
              "ticks": ""
             }
            },
            "type": "scattercarpet"
           }
          ],
          "scattergeo": [
           {
            "marker": {
             "colorbar": {
              "outlinewidth": 0,
              "ticks": ""
             }
            },
            "type": "scattergeo"
           }
          ],
          "scattergl": [
           {
            "marker": {
             "colorbar": {
              "outlinewidth": 0,
              "ticks": ""
             }
            },
            "type": "scattergl"
           }
          ],
          "scattermapbox": [
           {
            "marker": {
             "colorbar": {
              "outlinewidth": 0,
              "ticks": ""
             }
            },
            "type": "scattermapbox"
           }
          ],
          "scatterpolar": [
           {
            "marker": {
             "colorbar": {
              "outlinewidth": 0,
              "ticks": ""
             }
            },
            "type": "scatterpolar"
           }
          ],
          "scatterpolargl": [
           {
            "marker": {
             "colorbar": {
              "outlinewidth": 0,
              "ticks": ""
             }
            },
            "type": "scatterpolargl"
           }
          ],
          "scatterternary": [
           {
            "marker": {
             "colorbar": {
              "outlinewidth": 0,
              "ticks": ""
             }
            },
            "type": "scatterternary"
           }
          ],
          "surface": [
           {
            "colorbar": {
             "outlinewidth": 0,
             "ticks": ""
            },
            "colorscale": [
             [
              0,
              "#0d0887"
             ],
             [
              0.1111111111111111,
              "#46039f"
             ],
             [
              0.2222222222222222,
              "#7201a8"
             ],
             [
              0.3333333333333333,
              "#9c179e"
             ],
             [
              0.4444444444444444,
              "#bd3786"
             ],
             [
              0.5555555555555556,
              "#d8576b"
             ],
             [
              0.6666666666666666,
              "#ed7953"
             ],
             [
              0.7777777777777778,
              "#fb9f3a"
             ],
             [
              0.8888888888888888,
              "#fdca26"
             ],
             [
              1,
              "#f0f921"
             ]
            ],
            "type": "surface"
           }
          ],
          "table": [
           {
            "cells": {
             "fill": {
              "color": "#EBF0F8"
             },
             "line": {
              "color": "white"
             }
            },
            "header": {
             "fill": {
              "color": "#C8D4E3"
             },
             "line": {
              "color": "white"
             }
            },
            "type": "table"
           }
          ]
         },
         "layout": {
          "annotationdefaults": {
           "arrowcolor": "#2a3f5f",
           "arrowhead": 0,
           "arrowwidth": 1
          },
          "autotypenumbers": "strict",
          "coloraxis": {
           "colorbar": {
            "outlinewidth": 0,
            "ticks": ""
           }
          },
          "colorscale": {
           "diverging": [
            [
             0,
             "#8e0152"
            ],
            [
             0.1,
             "#c51b7d"
            ],
            [
             0.2,
             "#de77ae"
            ],
            [
             0.3,
             "#f1b6da"
            ],
            [
             0.4,
             "#fde0ef"
            ],
            [
             0.5,
             "#f7f7f7"
            ],
            [
             0.6,
             "#e6f5d0"
            ],
            [
             0.7,
             "#b8e186"
            ],
            [
             0.8,
             "#7fbc41"
            ],
            [
             0.9,
             "#4d9221"
            ],
            [
             1,
             "#276419"
            ]
           ],
           "sequential": [
            [
             0,
             "#0d0887"
            ],
            [
             0.1111111111111111,
             "#46039f"
            ],
            [
             0.2222222222222222,
             "#7201a8"
            ],
            [
             0.3333333333333333,
             "#9c179e"
            ],
            [
             0.4444444444444444,
             "#bd3786"
            ],
            [
             0.5555555555555556,
             "#d8576b"
            ],
            [
             0.6666666666666666,
             "#ed7953"
            ],
            [
             0.7777777777777778,
             "#fb9f3a"
            ],
            [
             0.8888888888888888,
             "#fdca26"
            ],
            [
             1,
             "#f0f921"
            ]
           ],
           "sequentialminus": [
            [
             0,
             "#0d0887"
            ],
            [
             0.1111111111111111,
             "#46039f"
            ],
            [
             0.2222222222222222,
             "#7201a8"
            ],
            [
             0.3333333333333333,
             "#9c179e"
            ],
            [
             0.4444444444444444,
             "#bd3786"
            ],
            [
             0.5555555555555556,
             "#d8576b"
            ],
            [
             0.6666666666666666,
             "#ed7953"
            ],
            [
             0.7777777777777778,
             "#fb9f3a"
            ],
            [
             0.8888888888888888,
             "#fdca26"
            ],
            [
             1,
             "#f0f921"
            ]
           ]
          },
          "colorway": [
           "#636efa",
           "#EF553B",
           "#00cc96",
           "#ab63fa",
           "#FFA15A",
           "#19d3f3",
           "#FF6692",
           "#B6E880",
           "#FF97FF",
           "#FECB52"
          ],
          "font": {
           "color": "#2a3f5f"
          },
          "geo": {
           "bgcolor": "white",
           "lakecolor": "white",
           "landcolor": "#E5ECF6",
           "showlakes": true,
           "showland": true,
           "subunitcolor": "white"
          },
          "hoverlabel": {
           "align": "left"
          },
          "hovermode": "closest",
          "mapbox": {
           "style": "light"
          },
          "paper_bgcolor": "white",
          "plot_bgcolor": "#E5ECF6",
          "polar": {
           "angularaxis": {
            "gridcolor": "white",
            "linecolor": "white",
            "ticks": ""
           },
           "bgcolor": "#E5ECF6",
           "radialaxis": {
            "gridcolor": "white",
            "linecolor": "white",
            "ticks": ""
           }
          },
          "scene": {
           "xaxis": {
            "backgroundcolor": "#E5ECF6",
            "gridcolor": "white",
            "gridwidth": 2,
            "linecolor": "white",
            "showbackground": true,
            "ticks": "",
            "zerolinecolor": "white"
           },
           "yaxis": {
            "backgroundcolor": "#E5ECF6",
            "gridcolor": "white",
            "gridwidth": 2,
            "linecolor": "white",
            "showbackground": true,
            "ticks": "",
            "zerolinecolor": "white"
           },
           "zaxis": {
            "backgroundcolor": "#E5ECF6",
            "gridcolor": "white",
            "gridwidth": 2,
            "linecolor": "white",
            "showbackground": true,
            "ticks": "",
            "zerolinecolor": "white"
           }
          },
          "shapedefaults": {
           "line": {
            "color": "#2a3f5f"
           }
          },
          "ternary": {
           "aaxis": {
            "gridcolor": "white",
            "linecolor": "white",
            "ticks": ""
           },
           "baxis": {
            "gridcolor": "white",
            "linecolor": "white",
            "ticks": ""
           },
           "bgcolor": "#E5ECF6",
           "caxis": {
            "gridcolor": "white",
            "linecolor": "white",
            "ticks": ""
           }
          },
          "title": {
           "x": 0.05
          },
          "xaxis": {
           "automargin": true,
           "gridcolor": "white",
           "linecolor": "white",
           "ticks": "",
           "title": {
            "standoff": 15
           },
           "zerolinecolor": "white",
           "zerolinewidth": 2
          },
          "yaxis": {
           "automargin": true,
           "gridcolor": "white",
           "linecolor": "white",
           "ticks": "",
           "title": {
            "standoff": 15
           },
           "zerolinecolor": "white",
           "zerolinewidth": 2
          }
         }
        },
        "title": {
         "text": "Distribution of Incidents by Operator over Time"
        },
        "width": 1200,
        "xaxis": {
         "anchor": "y",
         "domain": [
          0,
          1
         ],
         "tickangle": -45,
         "title": {
          "text": "Date"
         }
        },
        "yaxis": {
         "anchor": "x",
         "domain": [
          0,
          1
         ],
         "title": {
          "text": "Number of Incidents"
         }
        }
       }
      }
     },
     "metadata": {},
     "output_type": "display_data"
    }
   ],
   "source": [
    "# Criar um gráfico de linha interativo com o plotly\n",
    "fig = px.line(spark.sql(query).toPandas(), x='yearMonth', y='incidentCount', color='operator',\n",
    "              labels={'yearMonth': 'Date', 'incidentCount': 'Number of Incidents', 'operator': 'Operator'})\n",
    "\n",
    "# Personalizar o layout do gráfico\n",
    "fig.update_layout(title='Distribution of Incidents by Operator over Time',\n",
    "                  xaxis_tickangle=-45, legend_title_text='Operator', width=1200, height=600)\n",
    "\n",
    "# Mostrar o gráfico interativo\n",
    "fig.show()"
   ]
  },
  {
   "cell_type": "markdown",
   "metadata": {},
   "source": [
    "\n",
    "## 10. What is the most common type of incident with cyclists?"
   ]
  },
  {
   "cell_type": "code",
   "execution_count": 44,
   "metadata": {},
   "outputs": [
    {
     "name": "stdout",
     "output_type": "stream",
     "text": [
      "+------------------+\n",
      "| incidentEventType|\n",
      "+------------------+\n",
      "|Collision Incident|\n",
      "+------------------+\n",
      "only showing top 1 row\n",
      "\n"
     ]
    }
   ],
   "source": [
    "query = \"\"\"\n",
    "\n",
    "SELECT\n",
    "    incidentEventType,\n",
    "    COUNT(*) AS incidentCount\n",
    "FROM\n",
    "    tb_traffic_incidents\n",
    "WHERE\n",
    "    victimCategory = 'Cyclist' \n",
    "GROUP BY\n",
    "    incidentEventType\n",
    "ORDER BY\n",
    "    incidentCount DESC\n",
    "\n",
    "\"\"\"\n",
    "\n",
    "# Execute the query\n",
    "spark.sql(query).select(\"incidentEventType\").show(1)"
   ]
  },
  {
   "cell_type": "code",
   "execution_count": 45,
   "metadata": {},
   "outputs": [
    {
     "data": {
      "image/png": "[encoded data removed]",
      "text/plain": [
       "<Figure size 1000x600 with 1 Axes>"
      ]
     },
     "metadata": {},
     "output_type": "display_data"
    }
   ],
   "source": [
    "plt.figure(figsize=(10, 6))\n",
    "sns.barplot(data=spark.sql(query).toPandas(), x=\"incidentEventType\", y=\"incidentCount\")\n",
    "plt.xlabel('Incident Event Type')\n",
    "plt.ylabel('Number of Incidents')\n",
    "plt.title('Number of Cyclist Incidents by Type of Incident')\n",
    "plt.show()"
   ]
  }
 ],
 "metadata": {
  "kernelspec": {
   "display_name": "base",
   "language": "python",
   "name": "python3"
  },
  "language_info": {
   "codemirror_mode": {
    "name": "ipython",
    "version": 3
   },
   "file_extension": ".py",
   "mimetype": "text/x-python",
   "name": "python",
   "nbconvert_exporter": "python",
   "pygments_lexer": "ipython3",
   "version": "3.10.9"
  },
  "orig_nbformat": 4
 },
 "nbformat": 4,
 "nbformat_minor": 2
}
